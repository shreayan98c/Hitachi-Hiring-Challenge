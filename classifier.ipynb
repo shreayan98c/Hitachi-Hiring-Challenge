{
 "cells": [
  {
   "cell_type": "markdown",
   "metadata": {},
   "source": [
    "## Importing Libraries"
   ]
  },
  {
   "cell_type": "code",
   "execution_count": 1,
   "metadata": {},
   "outputs": [],
   "source": [
    "# Importing libraries\n",
    "import pandas as pd\n",
    "import numpy as np\n",
    "import matplotlib.pyplot as plt\n",
    "import seaborn as sns\n",
    "from sklearn import metrics\n",
    "from sklearn.model_selection import GridSearchCV"
   ]
  },
  {
   "cell_type": "markdown",
   "metadata": {},
   "source": [
    "## Importing the datasets"
   ]
  },
  {
   "cell_type": "code",
   "execution_count": 2,
   "metadata": {},
   "outputs": [
    {
     "data": {
      "text/plain": [
       "(1284, 19)"
      ]
     },
     "execution_count": 2,
     "metadata": {},
     "output_type": "execute_result"
    }
   ],
   "source": [
    "# Importing the train dataset\n",
    "train_data = pd.read_csv(\"Dataset/Train.csv\")\n",
    "train_data.shape"
   ]
  },
  {
   "cell_type": "code",
   "execution_count": 3,
   "metadata": {},
   "outputs": [
    {
     "data": {
      "text/plain": [
       "(964, 18)"
      ]
     },
     "execution_count": 3,
     "metadata": {},
     "output_type": "execute_result"
    }
   ],
   "source": [
    "# Importing the test dataset\n",
    "test_data = pd.read_csv(\"Dataset/Test.csv\")\n",
    "test_data.shape"
   ]
  },
  {
   "cell_type": "markdown",
   "metadata": {},
   "source": [
    "## Inspecting the data"
   ]
  },
  {
   "cell_type": "code",
   "execution_count": 4,
   "metadata": {
    "scrolled": true
   },
   "outputs": [
    {
     "data": {
      "text/html": [
       "<div>\n",
       "<style scoped>\n",
       "    .dataframe tbody tr th:only-of-type {\n",
       "        vertical-align: middle;\n",
       "    }\n",
       "\n",
       "    .dataframe tbody tr th {\n",
       "        vertical-align: top;\n",
       "    }\n",
       "\n",
       "    .dataframe thead th {\n",
       "        text-align: right;\n",
       "    }\n",
       "</style>\n",
       "<table border=\"1\" class=\"dataframe\">\n",
       "  <thead>\n",
       "    <tr style=\"text-align: right;\">\n",
       "      <th></th>\n",
       "      <th>id_code</th>\n",
       "      <th>current_date</th>\n",
       "      <th>current_time</th>\n",
       "      <th>source_name</th>\n",
       "      <th>destination_name</th>\n",
       "      <th>train_name</th>\n",
       "      <th>target</th>\n",
       "      <th>country_code_source</th>\n",
       "      <th>longitude_source</th>\n",
       "      <th>latitude_source</th>\n",
       "      <th>mean_halt_times_source</th>\n",
       "      <th>country_code_destination</th>\n",
       "      <th>longitude_destination</th>\n",
       "      <th>latitude_destination</th>\n",
       "      <th>mean_halt_times_destination</th>\n",
       "      <th>current_year</th>\n",
       "      <th>current_week</th>\n",
       "      <th>current_day</th>\n",
       "      <th>is_weekend</th>\n",
       "    </tr>\n",
       "  </thead>\n",
       "  <tbody>\n",
       "    <tr>\n",
       "      <th>0</th>\n",
       "      <td>isfywypmkqqhyft</td>\n",
       "      <td>2016-07-27</td>\n",
       "      <td>08:05:51 PM</td>\n",
       "      <td>station$147</td>\n",
       "      <td>station$1</td>\n",
       "      <td>ICZVZS</td>\n",
       "      <td>high</td>\n",
       "      <td>whber</td>\n",
       "      <td>4.356801</td>\n",
       "      <td>50.845658</td>\n",
       "      <td>634.16474</td>\n",
       "      <td>NaN</td>\n",
       "      <td>NaN</td>\n",
       "      <td>NaN</td>\n",
       "      <td>NaN</td>\n",
       "      <td>2016</td>\n",
       "      <td>30</td>\n",
       "      <td>Wednesday</td>\n",
       "      <td>False</td>\n",
       "    </tr>\n",
       "    <tr>\n",
       "      <th>1</th>\n",
       "      <td>mqsfxyvuqpbwomk</td>\n",
       "      <td>2016-07-27</td>\n",
       "      <td>08:06:11 PM</td>\n",
       "      <td>station$147</td>\n",
       "      <td>station$1</td>\n",
       "      <td>ICZVZS</td>\n",
       "      <td>high</td>\n",
       "      <td>whber</td>\n",
       "      <td>4.356801</td>\n",
       "      <td>50.845658</td>\n",
       "      <td>634.16474</td>\n",
       "      <td>NaN</td>\n",
       "      <td>NaN</td>\n",
       "      <td>NaN</td>\n",
       "      <td>NaN</td>\n",
       "      <td>2016</td>\n",
       "      <td>30</td>\n",
       "      <td>Wednesday</td>\n",
       "      <td>False</td>\n",
       "    </tr>\n",
       "    <tr>\n",
       "      <th>2</th>\n",
       "      <td>alspwwtbdvqsgby</td>\n",
       "      <td>2016-07-27</td>\n",
       "      <td>08:08:57 PM</td>\n",
       "      <td>station$147</td>\n",
       "      <td>station$1</td>\n",
       "      <td>ICZVZS</td>\n",
       "      <td>high</td>\n",
       "      <td>whber</td>\n",
       "      <td>4.356801</td>\n",
       "      <td>50.845658</td>\n",
       "      <td>634.16474</td>\n",
       "      <td>NaN</td>\n",
       "      <td>NaN</td>\n",
       "      <td>NaN</td>\n",
       "      <td>NaN</td>\n",
       "      <td>2016</td>\n",
       "      <td>30</td>\n",
       "      <td>Wednesday</td>\n",
       "      <td>False</td>\n",
       "    </tr>\n",
       "    <tr>\n",
       "      <th>3</th>\n",
       "      <td>szitxhhqduyrqpg</td>\n",
       "      <td>2016-07-27</td>\n",
       "      <td>08:09:08 PM</td>\n",
       "      <td>station$147</td>\n",
       "      <td>station$1</td>\n",
       "      <td>ICZVZS</td>\n",
       "      <td>high</td>\n",
       "      <td>whber</td>\n",
       "      <td>4.356801</td>\n",
       "      <td>50.845658</td>\n",
       "      <td>634.16474</td>\n",
       "      <td>NaN</td>\n",
       "      <td>NaN</td>\n",
       "      <td>NaN</td>\n",
       "      <td>NaN</td>\n",
       "      <td>2016</td>\n",
       "      <td>30</td>\n",
       "      <td>Wednesday</td>\n",
       "      <td>False</td>\n",
       "    </tr>\n",
       "    <tr>\n",
       "      <th>4</th>\n",
       "      <td>krisdqzczivvwcp</td>\n",
       "      <td>2016-07-27</td>\n",
       "      <td>08:11:01 PM</td>\n",
       "      <td>station$147</td>\n",
       "      <td>station$1</td>\n",
       "      <td>ICZVZS</td>\n",
       "      <td>high</td>\n",
       "      <td>whber</td>\n",
       "      <td>4.356801</td>\n",
       "      <td>50.845658</td>\n",
       "      <td>634.16474</td>\n",
       "      <td>NaN</td>\n",
       "      <td>NaN</td>\n",
       "      <td>NaN</td>\n",
       "      <td>NaN</td>\n",
       "      <td>2016</td>\n",
       "      <td>30</td>\n",
       "      <td>Wednesday</td>\n",
       "      <td>False</td>\n",
       "    </tr>\n",
       "  </tbody>\n",
       "</table>\n",
       "</div>"
      ],
      "text/plain": [
       "           id_code current_date current_time  source_name destination_name  \\\n",
       "0  isfywypmkqqhyft   2016-07-27  08:05:51 PM  station$147        station$1   \n",
       "1  mqsfxyvuqpbwomk   2016-07-27  08:06:11 PM  station$147        station$1   \n",
       "2  alspwwtbdvqsgby   2016-07-27  08:08:57 PM  station$147        station$1   \n",
       "3  szitxhhqduyrqpg   2016-07-27  08:09:08 PM  station$147        station$1   \n",
       "4  krisdqzczivvwcp   2016-07-27  08:11:01 PM  station$147        station$1   \n",
       "\n",
       "  train_name target country_code_source  longitude_source  latitude_source  \\\n",
       "0     ICZVZS   high               whber          4.356801        50.845658   \n",
       "1     ICZVZS   high               whber          4.356801        50.845658   \n",
       "2     ICZVZS   high               whber          4.356801        50.845658   \n",
       "3     ICZVZS   high               whber          4.356801        50.845658   \n",
       "4     ICZVZS   high               whber          4.356801        50.845658   \n",
       "\n",
       "   mean_halt_times_source country_code_destination  longitude_destination  \\\n",
       "0               634.16474                      NaN                    NaN   \n",
       "1               634.16474                      NaN                    NaN   \n",
       "2               634.16474                      NaN                    NaN   \n",
       "3               634.16474                      NaN                    NaN   \n",
       "4               634.16474                      NaN                    NaN   \n",
       "\n",
       "   latitude_destination  mean_halt_times_destination  current_year  \\\n",
       "0                   NaN                          NaN          2016   \n",
       "1                   NaN                          NaN          2016   \n",
       "2                   NaN                          NaN          2016   \n",
       "3                   NaN                          NaN          2016   \n",
       "4                   NaN                          NaN          2016   \n",
       "\n",
       "   current_week current_day  is_weekend  \n",
       "0            30   Wednesday       False  \n",
       "1            30   Wednesday       False  \n",
       "2            30   Wednesday       False  \n",
       "3            30   Wednesday       False  \n",
       "4            30   Wednesday       False  "
      ]
     },
     "execution_count": 4,
     "metadata": {},
     "output_type": "execute_result"
    }
   ],
   "source": [
    "train_data.head()"
   ]
  },
  {
   "cell_type": "code",
   "execution_count": 5,
   "metadata": {},
   "outputs": [
    {
     "data": {
      "text/plain": [
       "id_code                         object\n",
       "current_date                    object\n",
       "current_time                    object\n",
       "source_name                     object\n",
       "destination_name                object\n",
       "train_name                      object\n",
       "target                          object\n",
       "country_code_source             object\n",
       "longitude_source               float64\n",
       "latitude_source                float64\n",
       "mean_halt_times_source         float64\n",
       "country_code_destination        object\n",
       "longitude_destination          float64\n",
       "latitude_destination           float64\n",
       "mean_halt_times_destination    float64\n",
       "current_year                     int64\n",
       "current_week                     int64\n",
       "current_day                     object\n",
       "is_weekend                        bool\n",
       "dtype: object"
      ]
     },
     "execution_count": 5,
     "metadata": {},
     "output_type": "execute_result"
    }
   ],
   "source": [
    "train_data.dtypes"
   ]
  },
  {
   "cell_type": "code",
   "execution_count": 6,
   "metadata": {},
   "outputs": [
    {
     "data": {
      "text/html": [
       "<div>\n",
       "<style scoped>\n",
       "    .dataframe tbody tr th:only-of-type {\n",
       "        vertical-align: middle;\n",
       "    }\n",
       "\n",
       "    .dataframe tbody tr th {\n",
       "        vertical-align: top;\n",
       "    }\n",
       "\n",
       "    .dataframe thead th {\n",
       "        text-align: right;\n",
       "    }\n",
       "</style>\n",
       "<table border=\"1\" class=\"dataframe\">\n",
       "  <thead>\n",
       "    <tr style=\"text-align: right;\">\n",
       "      <th></th>\n",
       "      <th>id_code</th>\n",
       "      <th>current_date</th>\n",
       "      <th>current_time</th>\n",
       "      <th>source_name</th>\n",
       "      <th>destination_name</th>\n",
       "      <th>train_name</th>\n",
       "      <th>country_code_source</th>\n",
       "      <th>longitude_source</th>\n",
       "      <th>latitude_source</th>\n",
       "      <th>mean_halt_times_source</th>\n",
       "      <th>country_code_destination</th>\n",
       "      <th>longitude_destination</th>\n",
       "      <th>latitude_destination</th>\n",
       "      <th>mean_halt_times_destination</th>\n",
       "      <th>current_year</th>\n",
       "      <th>current_week</th>\n",
       "      <th>current_day</th>\n",
       "      <th>is_weekend</th>\n",
       "    </tr>\n",
       "  </thead>\n",
       "  <tbody>\n",
       "    <tr>\n",
       "      <th>0</th>\n",
       "      <td>mckbezdplrukagl</td>\n",
       "      <td>2016-10-06</td>\n",
       "      <td>01:05:38 AM</td>\n",
       "      <td>station$143</td>\n",
       "      <td>station$142</td>\n",
       "      <td>SZAYASZ</td>\n",
       "      <td>whber</td>\n",
       "      <td>4.243393</td>\n",
       "      <td>50.866728</td>\n",
       "      <td>39.121387</td>\n",
       "      <td>whber</td>\n",
       "      <td>4.273543</td>\n",
       "      <td>50.868337</td>\n",
       "      <td>39.121387</td>\n",
       "      <td>2016</td>\n",
       "      <td>40</td>\n",
       "      <td>Thursday</td>\n",
       "      <td>False</td>\n",
       "    </tr>\n",
       "    <tr>\n",
       "      <th>1</th>\n",
       "      <td>agxwrnbmzbyxsjg</td>\n",
       "      <td>2016-10-06</td>\n",
       "      <td>01:05:56 AM</td>\n",
       "      <td>station$133</td>\n",
       "      <td>station$147</td>\n",
       "      <td>ICXYXY</td>\n",
       "      <td>whber</td>\n",
       "      <td>4.326220</td>\n",
       "      <td>50.880833</td>\n",
       "      <td>95.676301</td>\n",
       "      <td>whber</td>\n",
       "      <td>4.356801</td>\n",
       "      <td>50.845658</td>\n",
       "      <td>634.164740</td>\n",
       "      <td>2016</td>\n",
       "      <td>40</td>\n",
       "      <td>Thursday</td>\n",
       "      <td>False</td>\n",
       "    </tr>\n",
       "    <tr>\n",
       "      <th>2</th>\n",
       "      <td>iqjojyewdyfshtj</td>\n",
       "      <td>2016-10-06</td>\n",
       "      <td>06:11:54 AM</td>\n",
       "      <td>station$632</td>\n",
       "      <td>station$544</td>\n",
       "      <td>ICWAT</td>\n",
       "      <td>whber</td>\n",
       "      <td>3.264549</td>\n",
       "      <td>50.824506</td>\n",
       "      <td>153.115607</td>\n",
       "      <td>whber</td>\n",
       "      <td>3.710675</td>\n",
       "      <td>51.035896</td>\n",
       "      <td>309.014451</td>\n",
       "      <td>2016</td>\n",
       "      <td>40</td>\n",
       "      <td>Thursday</td>\n",
       "      <td>False</td>\n",
       "    </tr>\n",
       "    <tr>\n",
       "      <th>3</th>\n",
       "      <td>hssqexnzirioaag</td>\n",
       "      <td>2016-10-06</td>\n",
       "      <td>07:00:00 AM</td>\n",
       "      <td>station$296</td>\n",
       "      <td>station$281</td>\n",
       "      <td>ICWYR</td>\n",
       "      <td>whber</td>\n",
       "      <td>5.599695</td>\n",
       "      <td>50.613152</td>\n",
       "      <td>87.130058</td>\n",
       "      <td>whber</td>\n",
       "      <td>5.566695</td>\n",
       "      <td>50.624550</td>\n",
       "      <td>269.124277</td>\n",
       "      <td>2016</td>\n",
       "      <td>40</td>\n",
       "      <td>Thursday</td>\n",
       "      <td>False</td>\n",
       "    </tr>\n",
       "    <tr>\n",
       "      <th>4</th>\n",
       "      <td>lublknpfraiznhr</td>\n",
       "      <td>2016-10-06</td>\n",
       "      <td>07:00:09 AM</td>\n",
       "      <td>station$281</td>\n",
       "      <td>station$266</td>\n",
       "      <td>ICWYR</td>\n",
       "      <td>whber</td>\n",
       "      <td>5.566695</td>\n",
       "      <td>50.624550</td>\n",
       "      <td>269.124277</td>\n",
       "      <td>whber</td>\n",
       "      <td>4.715866</td>\n",
       "      <td>50.882280</td>\n",
       "      <td>351.916185</td>\n",
       "      <td>2016</td>\n",
       "      <td>40</td>\n",
       "      <td>Thursday</td>\n",
       "      <td>False</td>\n",
       "    </tr>\n",
       "  </tbody>\n",
       "</table>\n",
       "</div>"
      ],
      "text/plain": [
       "           id_code current_date current_time  source_name destination_name  \\\n",
       "0  mckbezdplrukagl   2016-10-06  01:05:38 AM  station$143      station$142   \n",
       "1  agxwrnbmzbyxsjg   2016-10-06  01:05:56 AM  station$133      station$147   \n",
       "2  iqjojyewdyfshtj   2016-10-06  06:11:54 AM  station$632      station$544   \n",
       "3  hssqexnzirioaag   2016-10-06  07:00:00 AM  station$296      station$281   \n",
       "4  lublknpfraiznhr   2016-10-06  07:00:09 AM  station$281      station$266   \n",
       "\n",
       "  train_name country_code_source  longitude_source  latitude_source  \\\n",
       "0    SZAYASZ               whber          4.243393        50.866728   \n",
       "1     ICXYXY               whber          4.326220        50.880833   \n",
       "2      ICWAT               whber          3.264549        50.824506   \n",
       "3      ICWYR               whber          5.599695        50.613152   \n",
       "4      ICWYR               whber          5.566695        50.624550   \n",
       "\n",
       "   mean_halt_times_source country_code_destination  longitude_destination  \\\n",
       "0               39.121387                    whber               4.273543   \n",
       "1               95.676301                    whber               4.356801   \n",
       "2              153.115607                    whber               3.710675   \n",
       "3               87.130058                    whber               5.566695   \n",
       "4              269.124277                    whber               4.715866   \n",
       "\n",
       "   latitude_destination  mean_halt_times_destination  current_year  \\\n",
       "0             50.868337                    39.121387          2016   \n",
       "1             50.845658                   634.164740          2016   \n",
       "2             51.035896                   309.014451          2016   \n",
       "3             50.624550                   269.124277          2016   \n",
       "4             50.882280                   351.916185          2016   \n",
       "\n",
       "   current_week current_day  is_weekend  \n",
       "0            40    Thursday       False  \n",
       "1            40    Thursday       False  \n",
       "2            40    Thursday       False  \n",
       "3            40    Thursday       False  \n",
       "4            40    Thursday       False  "
      ]
     },
     "execution_count": 6,
     "metadata": {},
     "output_type": "execute_result"
    }
   ],
   "source": [
    "test_data.head()"
   ]
  },
  {
   "cell_type": "code",
   "execution_count": 7,
   "metadata": {},
   "outputs": [
    {
     "data": {
      "text/html": [
       "<div>\n",
       "<style scoped>\n",
       "    .dataframe tbody tr th:only-of-type {\n",
       "        vertical-align: middle;\n",
       "    }\n",
       "\n",
       "    .dataframe tbody tr th {\n",
       "        vertical-align: top;\n",
       "    }\n",
       "\n",
       "    .dataframe thead th {\n",
       "        text-align: right;\n",
       "    }\n",
       "</style>\n",
       "<table border=\"1\" class=\"dataframe\">\n",
       "  <thead>\n",
       "    <tr style=\"text-align: right;\">\n",
       "      <th></th>\n",
       "      <th>id_code</th>\n",
       "    </tr>\n",
       "  </thead>\n",
       "  <tbody>\n",
       "    <tr>\n",
       "      <th>0</th>\n",
       "      <td>mckbezdplrukagl</td>\n",
       "    </tr>\n",
       "    <tr>\n",
       "      <th>1</th>\n",
       "      <td>agxwrnbmzbyxsjg</td>\n",
       "    </tr>\n",
       "    <tr>\n",
       "      <th>2</th>\n",
       "      <td>iqjojyewdyfshtj</td>\n",
       "    </tr>\n",
       "    <tr>\n",
       "      <th>3</th>\n",
       "      <td>hssqexnzirioaag</td>\n",
       "    </tr>\n",
       "    <tr>\n",
       "      <th>4</th>\n",
       "      <td>lublknpfraiznhr</td>\n",
       "    </tr>\n",
       "  </tbody>\n",
       "</table>\n",
       "</div>"
      ],
      "text/plain": [
       "           id_code\n",
       "0  mckbezdplrukagl\n",
       "1  agxwrnbmzbyxsjg\n",
       "2  iqjojyewdyfshtj\n",
       "3  hssqexnzirioaag\n",
       "4  lublknpfraiznhr"
      ]
     },
     "execution_count": 7,
     "metadata": {},
     "output_type": "execute_result"
    }
   ],
   "source": [
    "my_submission = pd.DataFrame({'id_code': test_data['id_code']})\n",
    "my_submission.head()"
   ]
  },
  {
   "cell_type": "code",
   "execution_count": 8,
   "metadata": {},
   "outputs": [
    {
     "data": {
      "image/png": "[encoded data removed]",
      "text/plain": [
       "<Figure size 432x288 with 1 Axes>"
      ]
     },
     "metadata": {
      "needs_background": "light"
     },
     "output_type": "display_data"
    }
   ],
   "source": [
    "plt.title('Distribution of target variable')\n",
    "sns.countplot(train_data['target'])\n",
    "plt.show()"
   ]
  },
  {
   "cell_type": "code",
   "execution_count": 9,
   "metadata": {},
   "outputs": [
    {
     "data": {
      "text/plain": [
       "low       532\n",
       "high      392\n",
       "medium    360\n",
       "Name: target, dtype: int64"
      ]
     },
     "execution_count": 9,
     "metadata": {},
     "output_type": "execute_result"
    }
   ],
   "source": [
    "# Studying the target variable\n",
    "train_data['target'].value_counts()"
   ]
  },
  {
   "cell_type": "code",
   "execution_count": 10,
   "metadata": {},
   "outputs": [
    {
     "data": {
      "text/plain": [
       "id_code                         0\n",
       "current_date                    0\n",
       "current_time                    0\n",
       "source_name                     0\n",
       "destination_name                0\n",
       "train_name                      0\n",
       "target                          0\n",
       "country_code_source             1\n",
       "longitude_source                1\n",
       "latitude_source                 1\n",
       "mean_halt_times_source          1\n",
       "country_code_destination       33\n",
       "longitude_destination          33\n",
       "latitude_destination           33\n",
       "mean_halt_times_destination    33\n",
       "current_year                    0\n",
       "current_week                    0\n",
       "current_day                     0\n",
       "is_weekend                      0\n",
       "dtype: int64"
      ]
     },
     "execution_count": 10,
     "metadata": {},
     "output_type": "execute_result"
    }
   ],
   "source": [
    "train_data.isna().sum()"
   ]
  },
  {
   "cell_type": "code",
   "execution_count": 11,
   "metadata": {},
   "outputs": [
    {
     "data": {
      "text/plain": [
       "id_code                        0\n",
       "current_date                   0\n",
       "current_time                   0\n",
       "source_name                    0\n",
       "destination_name               0\n",
       "train_name                     0\n",
       "country_code_source            0\n",
       "longitude_source               0\n",
       "latitude_source                0\n",
       "mean_halt_times_source         0\n",
       "country_code_destination       0\n",
       "longitude_destination          0\n",
       "latitude_destination           0\n",
       "mean_halt_times_destination    0\n",
       "current_year                   0\n",
       "current_week                   0\n",
       "current_day                    0\n",
       "is_weekend                     0\n",
       "dtype: int64"
      ]
     },
     "execution_count": 11,
     "metadata": {},
     "output_type": "execute_result"
    }
   ],
   "source": [
    "test_data.isna().sum()"
   ]
  },
  {
   "cell_type": "code",
   "execution_count": 12,
   "metadata": {},
   "outputs": [
    {
     "data": {
      "text/plain": [
       "id_code                        1284\n",
       "current_date                     61\n",
       "current_time                   1262\n",
       "source_name                     188\n",
       "destination_name                218\n",
       "train_name                      560\n",
       "target                            3\n",
       "country_code_source               4\n",
       "longitude_source                187\n",
       "latitude_source                 187\n",
       "mean_halt_times_source          154\n",
       "country_code_destination          5\n",
       "longitude_destination           216\n",
       "latitude_destination            213\n",
       "mean_halt_times_destination     171\n",
       "current_year                      1\n",
       "current_week                     11\n",
       "current_day                       7\n",
       "is_weekend                        2\n",
       "dtype: int64"
      ]
     },
     "execution_count": 12,
     "metadata": {},
     "output_type": "execute_result"
    }
   ],
   "source": [
    "train_data.nunique()"
   ]
  },
  {
   "cell_type": "code",
   "execution_count": 13,
   "metadata": {},
   "outputs": [
    {
     "data": {
      "text/plain": [
       "id_code                        964\n",
       "current_date                    24\n",
       "current_time                   953\n",
       "source_name                    170\n",
       "destination_name               168\n",
       "train_name                     504\n",
       "country_code_source              3\n",
       "longitude_source               170\n",
       "latitude_source                170\n",
       "mean_halt_times_source         144\n",
       "country_code_destination         4\n",
       "longitude_destination          168\n",
       "latitude_destination           168\n",
       "mean_halt_times_destination    149\n",
       "current_year                     1\n",
       "current_week                     4\n",
       "current_day                      7\n",
       "is_weekend                       2\n",
       "dtype: int64"
      ]
     },
     "execution_count": 13,
     "metadata": {},
     "output_type": "execute_result"
    }
   ],
   "source": [
    "test_data.nunique()"
   ]
  },
  {
   "cell_type": "markdown",
   "metadata": {},
   "source": [
    "## Data Preprocessing"
   ]
  },
  {
   "cell_type": "code",
   "execution_count": 14,
   "metadata": {},
   "outputs": [],
   "source": [
    "# Dropping columns which will be of no use for our model\n",
    "col_list = ['id_code']"
   ]
  },
  {
   "cell_type": "code",
   "execution_count": 15,
   "metadata": {},
   "outputs": [],
   "source": [
    "# Dropping columns which will be of no use for our model\n",
    "train_data = train_data.drop(col_list, axis=1)\n",
    "test_data = test_data.drop(col_list, axis=1)"
   ]
  },
  {
   "cell_type": "code",
   "execution_count": 16,
   "metadata": {},
   "outputs": [],
   "source": [
    "# Function to extraxt year and month from datetime data\n",
    "def conv_date(date_list):\n",
    "    for i in date_list:\n",
    "        train_data[i] = pd.to_datetime(train_data[i])\n",
    "        test_data[i] = pd.to_datetime(test_data[i])"
   ]
  },
  {
   "cell_type": "code",
   "execution_count": 17,
   "metadata": {},
   "outputs": [],
   "source": [
    "date_list = ['current_date', 'current_time']\n",
    "conv_date(date_list)"
   ]
  },
  {
   "cell_type": "code",
   "execution_count": 18,
   "metadata": {},
   "outputs": [
    {
     "data": {
      "text/plain": [
       "current_date                   datetime64[ns]\n",
       "current_time                   datetime64[ns]\n",
       "source_name                            object\n",
       "destination_name                       object\n",
       "train_name                             object\n",
       "target                                 object\n",
       "country_code_source                    object\n",
       "longitude_source                      float64\n",
       "latitude_source                       float64\n",
       "mean_halt_times_source                float64\n",
       "country_code_destination               object\n",
       "longitude_destination                 float64\n",
       "latitude_destination                  float64\n",
       "mean_halt_times_destination           float64\n",
       "current_year                            int64\n",
       "current_week                            int64\n",
       "current_day                            object\n",
       "is_weekend                               bool\n",
       "dtype: object"
      ]
     },
     "execution_count": 18,
     "metadata": {},
     "output_type": "execute_result"
    }
   ],
   "source": [
    "train_data.dtypes"
   ]
  },
  {
   "cell_type": "code",
   "execution_count": 19,
   "metadata": {},
   "outputs": [],
   "source": [
    "# Function to obtain year and month from datetime data\n",
    "def get_year(colname, dfcolname):\n",
    "    train_data[colname] = train_data[dfcolname].apply(lambda x:x.year)\n",
    "    test_data[colname] = test_data[dfcolname].apply(lambda x:x.year)\n",
    "def get_month(colname, dfcolname):\n",
    "    train_data[colname] = train_data[dfcolname].apply(lambda x:x.month)\n",
    "    test_data[colname] = test_data[dfcolname].apply(lambda x:x.month)\n",
    "def get_hour(colname, dfcolname):\n",
    "    train_data[colname] = train_data[dfcolname].apply(lambda x:x.hour)\n",
    "    test_data[colname] = test_data[dfcolname].apply(lambda x:x.hour)"
   ]
  },
  {
   "cell_type": "code",
   "execution_count": 20,
   "metadata": {},
   "outputs": [],
   "source": [
    "get_year('current_year', 'current_date')\n",
    "get_month('current_month', 'current_date')\n",
    "get_hour('current_hour', 'current_time')"
   ]
  },
  {
   "cell_type": "code",
   "execution_count": 21,
   "metadata": {},
   "outputs": [],
   "source": [
    "col_list = ['current_date', 'current_time']"
   ]
  },
  {
   "cell_type": "code",
   "execution_count": 22,
   "metadata": {},
   "outputs": [],
   "source": [
    "# Dropping columns which will be of no use for our model\n",
    "train_data = train_data.drop(col_list, axis=1)\n",
    "test_data = test_data.drop(col_list, axis=1)"
   ]
  },
  {
   "cell_type": "code",
   "execution_count": 23,
   "metadata": {},
   "outputs": [
    {
     "data": {
      "text/html": [
       "<div>\n",
       "<style scoped>\n",
       "    .dataframe tbody tr th:only-of-type {\n",
       "        vertical-align: middle;\n",
       "    }\n",
       "\n",
       "    .dataframe tbody tr th {\n",
       "        vertical-align: top;\n",
       "    }\n",
       "\n",
       "    .dataframe thead th {\n",
       "        text-align: right;\n",
       "    }\n",
       "</style>\n",
       "<table border=\"1\" class=\"dataframe\">\n",
       "  <thead>\n",
       "    <tr style=\"text-align: right;\">\n",
       "      <th></th>\n",
       "      <th>source_name</th>\n",
       "      <th>destination_name</th>\n",
       "      <th>train_name</th>\n",
       "      <th>target</th>\n",
       "      <th>country_code_source</th>\n",
       "      <th>longitude_source</th>\n",
       "      <th>latitude_source</th>\n",
       "      <th>mean_halt_times_source</th>\n",
       "      <th>country_code_destination</th>\n",
       "      <th>longitude_destination</th>\n",
       "      <th>latitude_destination</th>\n",
       "      <th>mean_halt_times_destination</th>\n",
       "      <th>current_year</th>\n",
       "      <th>current_week</th>\n",
       "      <th>current_day</th>\n",
       "      <th>is_weekend</th>\n",
       "      <th>current_month</th>\n",
       "      <th>current_hour</th>\n",
       "    </tr>\n",
       "  </thead>\n",
       "  <tbody>\n",
       "    <tr>\n",
       "      <th>0</th>\n",
       "      <td>station$147</td>\n",
       "      <td>station$1</td>\n",
       "      <td>ICZVZS</td>\n",
       "      <td>high</td>\n",
       "      <td>whber</td>\n",
       "      <td>4.356801</td>\n",
       "      <td>50.845658</td>\n",
       "      <td>634.16474</td>\n",
       "      <td>NaN</td>\n",
       "      <td>NaN</td>\n",
       "      <td>NaN</td>\n",
       "      <td>NaN</td>\n",
       "      <td>2016</td>\n",
       "      <td>30</td>\n",
       "      <td>Wednesday</td>\n",
       "      <td>False</td>\n",
       "      <td>7</td>\n",
       "      <td>20</td>\n",
       "    </tr>\n",
       "    <tr>\n",
       "      <th>1</th>\n",
       "      <td>station$147</td>\n",
       "      <td>station$1</td>\n",
       "      <td>ICZVZS</td>\n",
       "      <td>high</td>\n",
       "      <td>whber</td>\n",
       "      <td>4.356801</td>\n",
       "      <td>50.845658</td>\n",
       "      <td>634.16474</td>\n",
       "      <td>NaN</td>\n",
       "      <td>NaN</td>\n",
       "      <td>NaN</td>\n",
       "      <td>NaN</td>\n",
       "      <td>2016</td>\n",
       "      <td>30</td>\n",
       "      <td>Wednesday</td>\n",
       "      <td>False</td>\n",
       "      <td>7</td>\n",
       "      <td>20</td>\n",
       "    </tr>\n",
       "    <tr>\n",
       "      <th>2</th>\n",
       "      <td>station$147</td>\n",
       "      <td>station$1</td>\n",
       "      <td>ICZVZS</td>\n",
       "      <td>high</td>\n",
       "      <td>whber</td>\n",
       "      <td>4.356801</td>\n",
       "      <td>50.845658</td>\n",
       "      <td>634.16474</td>\n",
       "      <td>NaN</td>\n",
       "      <td>NaN</td>\n",
       "      <td>NaN</td>\n",
       "      <td>NaN</td>\n",
       "      <td>2016</td>\n",
       "      <td>30</td>\n",
       "      <td>Wednesday</td>\n",
       "      <td>False</td>\n",
       "      <td>7</td>\n",
       "      <td>20</td>\n",
       "    </tr>\n",
       "    <tr>\n",
       "      <th>3</th>\n",
       "      <td>station$147</td>\n",
       "      <td>station$1</td>\n",
       "      <td>ICZVZS</td>\n",
       "      <td>high</td>\n",
       "      <td>whber</td>\n",
       "      <td>4.356801</td>\n",
       "      <td>50.845658</td>\n",
       "      <td>634.16474</td>\n",
       "      <td>NaN</td>\n",
       "      <td>NaN</td>\n",
       "      <td>NaN</td>\n",
       "      <td>NaN</td>\n",
       "      <td>2016</td>\n",
       "      <td>30</td>\n",
       "      <td>Wednesday</td>\n",
       "      <td>False</td>\n",
       "      <td>7</td>\n",
       "      <td>20</td>\n",
       "    </tr>\n",
       "    <tr>\n",
       "      <th>4</th>\n",
       "      <td>station$147</td>\n",
       "      <td>station$1</td>\n",
       "      <td>ICZVZS</td>\n",
       "      <td>high</td>\n",
       "      <td>whber</td>\n",
       "      <td>4.356801</td>\n",
       "      <td>50.845658</td>\n",
       "      <td>634.16474</td>\n",
       "      <td>NaN</td>\n",
       "      <td>NaN</td>\n",
       "      <td>NaN</td>\n",
       "      <td>NaN</td>\n",
       "      <td>2016</td>\n",
       "      <td>30</td>\n",
       "      <td>Wednesday</td>\n",
       "      <td>False</td>\n",
       "      <td>7</td>\n",
       "      <td>20</td>\n",
       "    </tr>\n",
       "  </tbody>\n",
       "</table>\n",
       "</div>"
      ],
      "text/plain": [
       "   source_name destination_name train_name target country_code_source  \\\n",
       "0  station$147        station$1     ICZVZS   high               whber   \n",
       "1  station$147        station$1     ICZVZS   high               whber   \n",
       "2  station$147        station$1     ICZVZS   high               whber   \n",
       "3  station$147        station$1     ICZVZS   high               whber   \n",
       "4  station$147        station$1     ICZVZS   high               whber   \n",
       "\n",
       "   longitude_source  latitude_source  mean_halt_times_source  \\\n",
       "0          4.356801        50.845658               634.16474   \n",
       "1          4.356801        50.845658               634.16474   \n",
       "2          4.356801        50.845658               634.16474   \n",
       "3          4.356801        50.845658               634.16474   \n",
       "4          4.356801        50.845658               634.16474   \n",
       "\n",
       "  country_code_destination  longitude_destination  latitude_destination  \\\n",
       "0                      NaN                    NaN                   NaN   \n",
       "1                      NaN                    NaN                   NaN   \n",
       "2                      NaN                    NaN                   NaN   \n",
       "3                      NaN                    NaN                   NaN   \n",
       "4                      NaN                    NaN                   NaN   \n",
       "\n",
       "   mean_halt_times_destination  current_year  current_week current_day  \\\n",
       "0                          NaN          2016            30   Wednesday   \n",
       "1                          NaN          2016            30   Wednesday   \n",
       "2                          NaN          2016            30   Wednesday   \n",
       "3                          NaN          2016            30   Wednesday   \n",
       "4                          NaN          2016            30   Wednesday   \n",
       "\n",
       "   is_weekend  current_month  current_hour  \n",
       "0       False              7            20  \n",
       "1       False              7            20  \n",
       "2       False              7            20  \n",
       "3       False              7            20  \n",
       "4       False              7            20  "
      ]
     },
     "execution_count": 23,
     "metadata": {},
     "output_type": "execute_result"
    }
   ],
   "source": [
    "train_data.head()"
   ]
  },
  {
   "cell_type": "code",
   "execution_count": 24,
   "metadata": {
    "scrolled": true
   },
   "outputs": [
    {
     "data": {
      "text/plain": [
       "source_name                     0\n",
       "destination_name                0\n",
       "train_name                      0\n",
       "target                          0\n",
       "country_code_source             1\n",
       "longitude_source                1\n",
       "latitude_source                 1\n",
       "mean_halt_times_source          1\n",
       "country_code_destination       33\n",
       "longitude_destination          33\n",
       "latitude_destination           33\n",
       "mean_halt_times_destination    33\n",
       "current_year                    0\n",
       "current_week                    0\n",
       "current_day                     0\n",
       "is_weekend                      0\n",
       "current_month                   0\n",
       "current_hour                    0\n",
       "dtype: int64"
      ]
     },
     "execution_count": 24,
     "metadata": {},
     "output_type": "execute_result"
    }
   ],
   "source": [
    "train_data.isna().sum()"
   ]
  },
  {
   "cell_type": "code",
   "execution_count": 25,
   "metadata": {},
   "outputs": [],
   "source": [
    "# Function to impute with None\n",
    "def impute_none(imp_none_list):\n",
    "    for i in imp_none_list:\n",
    "        train_data[i] = train_data[i].fillna('None')\n",
    "        test_data[i] = test_data[i].fillna('None')"
   ]
  },
  {
   "cell_type": "code",
   "execution_count": 26,
   "metadata": {},
   "outputs": [],
   "source": [
    "imp_none_list = ['country_code_source', 'country_code_destination']\n",
    "impute_none(imp_none_list)"
   ]
  },
  {
   "cell_type": "code",
   "execution_count": 27,
   "metadata": {},
   "outputs": [],
   "source": [
    "# Function to impute missing values by rounded value of mean\n",
    "def round_mean(imp_mean_list):\n",
    "    for i in imp_mean_list:\n",
    "        train_data[i] = train_data[i].fillna(round(train_data[i].mean()))\n",
    "        test_data[i] = test_data[i].fillna(round(train_data[i].mean()))"
   ]
  },
  {
   "cell_type": "code",
   "execution_count": 28,
   "metadata": {},
   "outputs": [],
   "source": [
    "imp_mean_list = ['longitude_source', 'latitude_source', 'longitude_destination', 'latitude_destination', \n",
    "                 'mean_halt_times_destination']\n",
    "round_mean(imp_mean_list)"
   ]
  },
  {
   "cell_type": "code",
   "execution_count": 29,
   "metadata": {},
   "outputs": [
    {
     "data": {
      "image/png": "[encoded data removed]",
      "text/plain": [
       "<Figure size 1440x864 with 6 Axes>"
      ]
     },
     "metadata": {
      "needs_background": "light"
     },
     "output_type": "display_data"
    }
   ],
   "source": [
    "# Plotting a boxplot to study the distribution of features\n",
    "fig,ax = plt.subplots(2,3, figsize=(20,12))               \n",
    "plt.suptitle(\"Distribution of various factors\", fontsize=20)\n",
    "sns.boxplot(train_data['longitude_source'], ax = ax[0,0]) \n",
    "sns.boxplot(train_data['longitude_destination'], ax = ax[1,0]) \n",
    "sns.boxplot(train_data['latitude_source'], ax = ax[0,1])  \n",
    "sns.boxplot(train_data['latitude_destination'], ax = ax[1,1])\n",
    "sns.boxplot(train_data['mean_halt_times_destination'], ax = ax[0,2])\n",
    "plt.show()"
   ]
  },
  {
   "cell_type": "code",
   "execution_count": 30,
   "metadata": {},
   "outputs": [
    {
     "name": "stderr",
     "output_type": "stream",
     "text": [
      "F:\\Installed\\Anaconda3\\lib\\site-packages\\scipy\\stats\\stats.py:1713: FutureWarning: Using a non-tuple sequence for multidimensional indexing is deprecated; use `arr[tuple(seq)]` instead of `arr[seq]`. In the future this will be interpreted as an array index, `arr[np.array(seq)]`, which will result either in an error or a different result.\n",
      "  return np.add.reduce(sorted[indexer] * weights, axis=axis) / sumval\n"
     ]
    },
    {
     "data": {
      "image/png": "[encoded data removed]",
      "text/plain": [
       "<Figure size 1440x864 with 6 Axes>"
      ]
     },
     "metadata": {
      "needs_background": "light"
     },
     "output_type": "display_data"
    }
   ],
   "source": [
    "# Plotting a boxplot to study the distribution of features\n",
    "fig,ax = plt.subplots(2,3, figsize=(20,12))               \n",
    "plt.suptitle(\"Distribution of various factors\", fontsize=20)\n",
    "sns.distplot(train_data['longitude_source'], ax = ax[0,0]) \n",
    "sns.distplot(train_data['longitude_destination'], ax = ax[1,0]) \n",
    "sns.distplot(train_data['latitude_source'], ax = ax[0,1])  \n",
    "sns.distplot(train_data['latitude_destination'], ax = ax[1,1])  \n",
    "sns.distplot(train_data['mean_halt_times_destination'], ax = ax[0,2])\n",
    "plt.show()"
   ]
  },
  {
   "cell_type": "code",
   "execution_count": 31,
   "metadata": {},
   "outputs": [
    {
     "data": {
      "text/html": [
       "<div>\n",
       "<style scoped>\n",
       "    .dataframe tbody tr th:only-of-type {\n",
       "        vertical-align: middle;\n",
       "    }\n",
       "\n",
       "    .dataframe tbody tr th {\n",
       "        vertical-align: top;\n",
       "    }\n",
       "\n",
       "    .dataframe thead th {\n",
       "        text-align: right;\n",
       "    }\n",
       "</style>\n",
       "<table border=\"1\" class=\"dataframe\">\n",
       "  <thead>\n",
       "    <tr style=\"text-align: right;\">\n",
       "      <th></th>\n",
       "      <th>source_name</th>\n",
       "      <th>destination_name</th>\n",
       "      <th>train_name</th>\n",
       "      <th>target</th>\n",
       "      <th>country_code_source</th>\n",
       "      <th>longitude_source</th>\n",
       "      <th>latitude_source</th>\n",
       "      <th>mean_halt_times_source</th>\n",
       "      <th>country_code_destination</th>\n",
       "      <th>longitude_destination</th>\n",
       "      <th>latitude_destination</th>\n",
       "      <th>mean_halt_times_destination</th>\n",
       "      <th>current_year</th>\n",
       "      <th>current_week</th>\n",
       "      <th>current_day</th>\n",
       "      <th>is_weekend</th>\n",
       "      <th>current_month</th>\n",
       "      <th>current_hour</th>\n",
       "    </tr>\n",
       "  </thead>\n",
       "  <tbody>\n",
       "    <tr>\n",
       "      <th>0</th>\n",
       "      <td>station$147</td>\n",
       "      <td>station$1</td>\n",
       "      <td>ICZVZS</td>\n",
       "      <td>high</td>\n",
       "      <td>whber</td>\n",
       "      <td>4.356801</td>\n",
       "      <td>50.845658</td>\n",
       "      <td>634.16474</td>\n",
       "      <td>None</td>\n",
       "      <td>4.0</td>\n",
       "      <td>51.0</td>\n",
       "      <td>272.0</td>\n",
       "      <td>2016</td>\n",
       "      <td>30</td>\n",
       "      <td>Wednesday</td>\n",
       "      <td>False</td>\n",
       "      <td>7</td>\n",
       "      <td>20</td>\n",
       "    </tr>\n",
       "    <tr>\n",
       "      <th>1</th>\n",
       "      <td>station$147</td>\n",
       "      <td>station$1</td>\n",
       "      <td>ICZVZS</td>\n",
       "      <td>high</td>\n",
       "      <td>whber</td>\n",
       "      <td>4.356801</td>\n",
       "      <td>50.845658</td>\n",
       "      <td>634.16474</td>\n",
       "      <td>None</td>\n",
       "      <td>4.0</td>\n",
       "      <td>51.0</td>\n",
       "      <td>272.0</td>\n",
       "      <td>2016</td>\n",
       "      <td>30</td>\n",
       "      <td>Wednesday</td>\n",
       "      <td>False</td>\n",
       "      <td>7</td>\n",
       "      <td>20</td>\n",
       "    </tr>\n",
       "    <tr>\n",
       "      <th>2</th>\n",
       "      <td>station$147</td>\n",
       "      <td>station$1</td>\n",
       "      <td>ICZVZS</td>\n",
       "      <td>high</td>\n",
       "      <td>whber</td>\n",
       "      <td>4.356801</td>\n",
       "      <td>50.845658</td>\n",
       "      <td>634.16474</td>\n",
       "      <td>None</td>\n",
       "      <td>4.0</td>\n",
       "      <td>51.0</td>\n",
       "      <td>272.0</td>\n",
       "      <td>2016</td>\n",
       "      <td>30</td>\n",
       "      <td>Wednesday</td>\n",
       "      <td>False</td>\n",
       "      <td>7</td>\n",
       "      <td>20</td>\n",
       "    </tr>\n",
       "    <tr>\n",
       "      <th>3</th>\n",
       "      <td>station$147</td>\n",
       "      <td>station$1</td>\n",
       "      <td>ICZVZS</td>\n",
       "      <td>high</td>\n",
       "      <td>whber</td>\n",
       "      <td>4.356801</td>\n",
       "      <td>50.845658</td>\n",
       "      <td>634.16474</td>\n",
       "      <td>None</td>\n",
       "      <td>4.0</td>\n",
       "      <td>51.0</td>\n",
       "      <td>272.0</td>\n",
       "      <td>2016</td>\n",
       "      <td>30</td>\n",
       "      <td>Wednesday</td>\n",
       "      <td>False</td>\n",
       "      <td>7</td>\n",
       "      <td>20</td>\n",
       "    </tr>\n",
       "    <tr>\n",
       "      <th>4</th>\n",
       "      <td>station$147</td>\n",
       "      <td>station$1</td>\n",
       "      <td>ICZVZS</td>\n",
       "      <td>high</td>\n",
       "      <td>whber</td>\n",
       "      <td>4.356801</td>\n",
       "      <td>50.845658</td>\n",
       "      <td>634.16474</td>\n",
       "      <td>None</td>\n",
       "      <td>4.0</td>\n",
       "      <td>51.0</td>\n",
       "      <td>272.0</td>\n",
       "      <td>2016</td>\n",
       "      <td>30</td>\n",
       "      <td>Wednesday</td>\n",
       "      <td>False</td>\n",
       "      <td>7</td>\n",
       "      <td>20</td>\n",
       "    </tr>\n",
       "  </tbody>\n",
       "</table>\n",
       "</div>"
      ],
      "text/plain": [
       "   source_name destination_name train_name target country_code_source  \\\n",
       "0  station$147        station$1     ICZVZS   high               whber   \n",
       "1  station$147        station$1     ICZVZS   high               whber   \n",
       "2  station$147        station$1     ICZVZS   high               whber   \n",
       "3  station$147        station$1     ICZVZS   high               whber   \n",
       "4  station$147        station$1     ICZVZS   high               whber   \n",
       "\n",
       "   longitude_source  latitude_source  mean_halt_times_source  \\\n",
       "0          4.356801        50.845658               634.16474   \n",
       "1          4.356801        50.845658               634.16474   \n",
       "2          4.356801        50.845658               634.16474   \n",
       "3          4.356801        50.845658               634.16474   \n",
       "4          4.356801        50.845658               634.16474   \n",
       "\n",
       "  country_code_destination  longitude_destination  latitude_destination  \\\n",
       "0                     None                    4.0                  51.0   \n",
       "1                     None                    4.0                  51.0   \n",
       "2                     None                    4.0                  51.0   \n",
       "3                     None                    4.0                  51.0   \n",
       "4                     None                    4.0                  51.0   \n",
       "\n",
       "   mean_halt_times_destination  current_year  current_week current_day  \\\n",
       "0                        272.0          2016            30   Wednesday   \n",
       "1                        272.0          2016            30   Wednesday   \n",
       "2                        272.0          2016            30   Wednesday   \n",
       "3                        272.0          2016            30   Wednesday   \n",
       "4                        272.0          2016            30   Wednesday   \n",
       "\n",
       "   is_weekend  current_month  current_hour  \n",
       "0       False              7            20  \n",
       "1       False              7            20  \n",
       "2       False              7            20  \n",
       "3       False              7            20  \n",
       "4       False              7            20  "
      ]
     },
     "execution_count": 31,
     "metadata": {},
     "output_type": "execute_result"
    }
   ],
   "source": [
    "train_data.head()"
   ]
  },
  {
   "cell_type": "code",
   "execution_count": null,
   "metadata": {},
   "outputs": [],
   "source": []
  }
 ],
 "metadata": {
  "kernelspec": {
   "display_name": "Python 3",
   "language": "python",
   "name": "python3"
  },
  "language_info": {
   "codemirror_mode": {
    "name": "ipython",
    "version": 3
   },
   "file_extension": ".py",
   "mimetype": "text/x-python",
   "name": "python",
   "nbconvert_exporter": "python",
   "pygments_lexer": "ipython3",
   "version": "3.7.1"
  },
  "varInspector": {
   "cols": {
    "lenName": 16,
    "lenType": 16,
    "lenVar": 40
   },
   "kernels_config": {
    "python": {
     "delete_cmd_postfix": "",
     "delete_cmd_prefix": "del ",
     "library": "var_list.py",
     "varRefreshCmd": "print(var_dic_list())"
    },
    "r": {
     "delete_cmd_postfix": ") ",
     "delete_cmd_prefix": "rm(",
     "library": "var_list.r",
     "varRefreshCmd": "cat(var_dic_list()) "
    }
   },
   "types_to_exclude": [
    "module",
    "function",
    "builtin_function_or_method",
    "instance",
    "_Feature"
   ],
   "window_display": false
  }
 },
 "nbformat": 4,
 "nbformat_minor": 2
}
