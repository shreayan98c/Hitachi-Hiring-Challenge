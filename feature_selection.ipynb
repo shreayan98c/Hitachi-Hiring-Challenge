{
 "cells": [
  {
   "cell_type": "markdown",
   "metadata": {},
   "source": [
    "## Importing Libraries"
   ]
  },
  {
   "cell_type": "code",
   "execution_count": 1,
   "metadata": {},
   "outputs": [],
   "source": [
    "# Importing libraries\n",
    "import pandas as pd\n",
    "import numpy as np\n",
    "import matplotlib.pyplot as plt\n",
    "import seaborn as sns\n",
    "from sklearn import metrics\n",
    "from sklearn.preprocessing import LabelEncoder\n",
    "from sklearn.model_selection import GridSearchCV"
   ]
  },
  {
   "cell_type": "markdown",
   "metadata": {},
   "source": [
    "## Importing the datasets"
   ]
  },
  {
   "cell_type": "code",
   "execution_count": 2,
   "metadata": {},
   "outputs": [
    {
     "data": {
      "text/plain": [
       "(1284, 19)"
      ]
     },
     "execution_count": 2,
     "metadata": {},
     "output_type": "execute_result"
    }
   ],
   "source": [
    "# Importing the train dataset\n",
    "train_data = pd.read_csv(\"Dataset/Train.csv\")\n",
    "train_data.shape"
   ]
  },
  {
   "cell_type": "code",
   "execution_count": 3,
   "metadata": {},
   "outputs": [
    {
     "data": {
      "text/plain": [
       "(964, 18)"
      ]
     },
     "execution_count": 3,
     "metadata": {},
     "output_type": "execute_result"
    }
   ],
   "source": [
    "# Importing the test dataset\n",
    "test_data = pd.read_csv(\"Dataset/Test.csv\")\n",
    "test_data.shape"
   ]
  },
  {
   "cell_type": "markdown",
   "metadata": {},
   "source": [
    "## Inspecting the data"
   ]
  },
  {
   "cell_type": "code",
   "execution_count": 4,
   "metadata": {
    "scrolled": true
   },
   "outputs": [
    {
     "data": {
      "text/html": [
       "<div>\n",
       "<style scoped>\n",
       "    .dataframe tbody tr th:only-of-type {\n",
       "        vertical-align: middle;\n",
       "    }\n",
       "\n",
       "    .dataframe tbody tr th {\n",
       "        vertical-align: top;\n",
       "    }\n",
       "\n",
       "    .dataframe thead th {\n",
       "        text-align: right;\n",
       "    }\n",
       "</style>\n",
       "<table border=\"1\" class=\"dataframe\">\n",
       "  <thead>\n",
       "    <tr style=\"text-align: right;\">\n",
       "      <th></th>\n",
       "      <th>id_code</th>\n",
       "      <th>current_date</th>\n",
       "      <th>current_time</th>\n",
       "      <th>source_name</th>\n",
       "      <th>destination_name</th>\n",
       "      <th>train_name</th>\n",
       "      <th>target</th>\n",
       "      <th>country_code_source</th>\n",
       "      <th>longitude_source</th>\n",
       "      <th>latitude_source</th>\n",
       "      <th>mean_halt_times_source</th>\n",
       "      <th>country_code_destination</th>\n",
       "      <th>longitude_destination</th>\n",
       "      <th>latitude_destination</th>\n",
       "      <th>mean_halt_times_destination</th>\n",
       "      <th>current_year</th>\n",
       "      <th>current_week</th>\n",
       "      <th>current_day</th>\n",
       "      <th>is_weekend</th>\n",
       "    </tr>\n",
       "  </thead>\n",
       "  <tbody>\n",
       "    <tr>\n",
       "      <th>0</th>\n",
       "      <td>isfywypmkqqhyft</td>\n",
       "      <td>2016-07-27</td>\n",
       "      <td>08:05:51 PM</td>\n",
       "      <td>station$147</td>\n",
       "      <td>station$1</td>\n",
       "      <td>ICZVZS</td>\n",
       "      <td>high</td>\n",
       "      <td>whber</td>\n",
       "      <td>4.356801</td>\n",
       "      <td>50.845658</td>\n",
       "      <td>634.16474</td>\n",
       "      <td>NaN</td>\n",
       "      <td>NaN</td>\n",
       "      <td>NaN</td>\n",
       "      <td>NaN</td>\n",
       "      <td>2016</td>\n",
       "      <td>30</td>\n",
       "      <td>Wednesday</td>\n",
       "      <td>False</td>\n",
       "    </tr>\n",
       "    <tr>\n",
       "      <th>1</th>\n",
       "      <td>mqsfxyvuqpbwomk</td>\n",
       "      <td>2016-07-27</td>\n",
       "      <td>08:06:11 PM</td>\n",
       "      <td>station$147</td>\n",
       "      <td>station$1</td>\n",
       "      <td>ICZVZS</td>\n",
       "      <td>high</td>\n",
       "      <td>whber</td>\n",
       "      <td>4.356801</td>\n",
       "      <td>50.845658</td>\n",
       "      <td>634.16474</td>\n",
       "      <td>NaN</td>\n",
       "      <td>NaN</td>\n",
       "      <td>NaN</td>\n",
       "      <td>NaN</td>\n",
       "      <td>2016</td>\n",
       "      <td>30</td>\n",
       "      <td>Wednesday</td>\n",
       "      <td>False</td>\n",
       "    </tr>\n",
       "    <tr>\n",
       "      <th>2</th>\n",
       "      <td>alspwwtbdvqsgby</td>\n",
       "      <td>2016-07-27</td>\n",
       "      <td>08:08:57 PM</td>\n",
       "      <td>station$147</td>\n",
       "      <td>station$1</td>\n",
       "      <td>ICZVZS</td>\n",
       "      <td>high</td>\n",
       "      <td>whber</td>\n",
       "      <td>4.356801</td>\n",
       "      <td>50.845658</td>\n",
       "      <td>634.16474</td>\n",
       "      <td>NaN</td>\n",
       "      <td>NaN</td>\n",
       "      <td>NaN</td>\n",
       "      <td>NaN</td>\n",
       "      <td>2016</td>\n",
       "      <td>30</td>\n",
       "      <td>Wednesday</td>\n",
       "      <td>False</td>\n",
       "    </tr>\n",
       "    <tr>\n",
       "      <th>3</th>\n",
       "      <td>szitxhhqduyrqpg</td>\n",
       "      <td>2016-07-27</td>\n",
       "      <td>08:09:08 PM</td>\n",
       "      <td>station$147</td>\n",
       "      <td>station$1</td>\n",
       "      <td>ICZVZS</td>\n",
       "      <td>high</td>\n",
       "      <td>whber</td>\n",
       "      <td>4.356801</td>\n",
       "      <td>50.845658</td>\n",
       "      <td>634.16474</td>\n",
       "      <td>NaN</td>\n",
       "      <td>NaN</td>\n",
       "      <td>NaN</td>\n",
       "      <td>NaN</td>\n",
       "      <td>2016</td>\n",
       "      <td>30</td>\n",
       "      <td>Wednesday</td>\n",
       "      <td>False</td>\n",
       "    </tr>\n",
       "    <tr>\n",
       "      <th>4</th>\n",
       "      <td>krisdqzczivvwcp</td>\n",
       "      <td>2016-07-27</td>\n",
       "      <td>08:11:01 PM</td>\n",
       "      <td>station$147</td>\n",
       "      <td>station$1</td>\n",
       "      <td>ICZVZS</td>\n",
       "      <td>high</td>\n",
       "      <td>whber</td>\n",
       "      <td>4.356801</td>\n",
       "      <td>50.845658</td>\n",
       "      <td>634.16474</td>\n",
       "      <td>NaN</td>\n",
       "      <td>NaN</td>\n",
       "      <td>NaN</td>\n",
       "      <td>NaN</td>\n",
       "      <td>2016</td>\n",
       "      <td>30</td>\n",
       "      <td>Wednesday</td>\n",
       "      <td>False</td>\n",
       "    </tr>\n",
       "  </tbody>\n",
       "</table>\n",
       "</div>"
      ],
      "text/plain": [
       "           id_code current_date current_time  source_name destination_name  \\\n",
       "0  isfywypmkqqhyft   2016-07-27  08:05:51 PM  station$147        station$1   \n",
       "1  mqsfxyvuqpbwomk   2016-07-27  08:06:11 PM  station$147        station$1   \n",
       "2  alspwwtbdvqsgby   2016-07-27  08:08:57 PM  station$147        station$1   \n",
       "3  szitxhhqduyrqpg   2016-07-27  08:09:08 PM  station$147        station$1   \n",
       "4  krisdqzczivvwcp   2016-07-27  08:11:01 PM  station$147        station$1   \n",
       "\n",
       "  train_name target country_code_source  longitude_source  latitude_source  \\\n",
       "0     ICZVZS   high               whber          4.356801        50.845658   \n",
       "1     ICZVZS   high               whber          4.356801        50.845658   \n",
       "2     ICZVZS   high               whber          4.356801        50.845658   \n",
       "3     ICZVZS   high               whber          4.356801        50.845658   \n",
       "4     ICZVZS   high               whber          4.356801        50.845658   \n",
       "\n",
       "   mean_halt_times_source country_code_destination  longitude_destination  \\\n",
       "0               634.16474                      NaN                    NaN   \n",
       "1               634.16474                      NaN                    NaN   \n",
       "2               634.16474                      NaN                    NaN   \n",
       "3               634.16474                      NaN                    NaN   \n",
       "4               634.16474                      NaN                    NaN   \n",
       "\n",
       "   latitude_destination  mean_halt_times_destination  current_year  \\\n",
       "0                   NaN                          NaN          2016   \n",
       "1                   NaN                          NaN          2016   \n",
       "2                   NaN                          NaN          2016   \n",
       "3                   NaN                          NaN          2016   \n",
       "4                   NaN                          NaN          2016   \n",
       "\n",
       "   current_week current_day  is_weekend  \n",
       "0            30   Wednesday       False  \n",
       "1            30   Wednesday       False  \n",
       "2            30   Wednesday       False  \n",
       "3            30   Wednesday       False  \n",
       "4            30   Wednesday       False  "
      ]
     },
     "execution_count": 4,
     "metadata": {},
     "output_type": "execute_result"
    }
   ],
   "source": [
    "train_data.head()"
   ]
  },
  {
   "cell_type": "code",
   "execution_count": 5,
   "metadata": {},
   "outputs": [
    {
     "data": {
      "text/plain": [
       "id_code                         object\n",
       "current_date                    object\n",
       "current_time                    object\n",
       "source_name                     object\n",
       "destination_name                object\n",
       "train_name                      object\n",
       "target                          object\n",
       "country_code_source             object\n",
       "longitude_source               float64\n",
       "latitude_source                float64\n",
       "mean_halt_times_source         float64\n",
       "country_code_destination        object\n",
       "longitude_destination          float64\n",
       "latitude_destination           float64\n",
       "mean_halt_times_destination    float64\n",
       "current_year                     int64\n",
       "current_week                     int64\n",
       "current_day                     object\n",
       "is_weekend                        bool\n",
       "dtype: object"
      ]
     },
     "execution_count": 5,
     "metadata": {},
     "output_type": "execute_result"
    }
   ],
   "source": [
    "train_data.dtypes"
   ]
  },
  {
   "cell_type": "code",
   "execution_count": 6,
   "metadata": {},
   "outputs": [
    {
     "data": {
      "text/html": [
       "<div>\n",
       "<style scoped>\n",
       "    .dataframe tbody tr th:only-of-type {\n",
       "        vertical-align: middle;\n",
       "    }\n",
       "\n",
       "    .dataframe tbody tr th {\n",
       "        vertical-align: top;\n",
       "    }\n",
       "\n",
       "    .dataframe thead th {\n",
       "        text-align: right;\n",
       "    }\n",
       "</style>\n",
       "<table border=\"1\" class=\"dataframe\">\n",
       "  <thead>\n",
       "    <tr style=\"text-align: right;\">\n",
       "      <th></th>\n",
       "      <th>id_code</th>\n",
       "      <th>current_date</th>\n",
       "      <th>current_time</th>\n",
       "      <th>source_name</th>\n",
       "      <th>destination_name</th>\n",
       "      <th>train_name</th>\n",
       "      <th>country_code_source</th>\n",
       "      <th>longitude_source</th>\n",
       "      <th>latitude_source</th>\n",
       "      <th>mean_halt_times_source</th>\n",
       "      <th>country_code_destination</th>\n",
       "      <th>longitude_destination</th>\n",
       "      <th>latitude_destination</th>\n",
       "      <th>mean_halt_times_destination</th>\n",
       "      <th>current_year</th>\n",
       "      <th>current_week</th>\n",
       "      <th>current_day</th>\n",
       "      <th>is_weekend</th>\n",
       "    </tr>\n",
       "  </thead>\n",
       "  <tbody>\n",
       "    <tr>\n",
       "      <th>0</th>\n",
       "      <td>mckbezdplrukagl</td>\n",
       "      <td>2016-10-06</td>\n",
       "      <td>01:05:38 AM</td>\n",
       "      <td>station$143</td>\n",
       "      <td>station$142</td>\n",
       "      <td>SZAYASZ</td>\n",
       "      <td>whber</td>\n",
       "      <td>4.243393</td>\n",
       "      <td>50.866728</td>\n",
       "      <td>39.121387</td>\n",
       "      <td>whber</td>\n",
       "      <td>4.273543</td>\n",
       "      <td>50.868337</td>\n",
       "      <td>39.121387</td>\n",
       "      <td>2016</td>\n",
       "      <td>40</td>\n",
       "      <td>Thursday</td>\n",
       "      <td>False</td>\n",
       "    </tr>\n",
       "    <tr>\n",
       "      <th>1</th>\n",
       "      <td>agxwrnbmzbyxsjg</td>\n",
       "      <td>2016-10-06</td>\n",
       "      <td>01:05:56 AM</td>\n",
       "      <td>station$133</td>\n",
       "      <td>station$147</td>\n",
       "      <td>ICXYXY</td>\n",
       "      <td>whber</td>\n",
       "      <td>4.326220</td>\n",
       "      <td>50.880833</td>\n",
       "      <td>95.676301</td>\n",
       "      <td>whber</td>\n",
       "      <td>4.356801</td>\n",
       "      <td>50.845658</td>\n",
       "      <td>634.164740</td>\n",
       "      <td>2016</td>\n",
       "      <td>40</td>\n",
       "      <td>Thursday</td>\n",
       "      <td>False</td>\n",
       "    </tr>\n",
       "    <tr>\n",
       "      <th>2</th>\n",
       "      <td>iqjojyewdyfshtj</td>\n",
       "      <td>2016-10-06</td>\n",
       "      <td>06:11:54 AM</td>\n",
       "      <td>station$632</td>\n",
       "      <td>station$544</td>\n",
       "      <td>ICWAT</td>\n",
       "      <td>whber</td>\n",
       "      <td>3.264549</td>\n",
       "      <td>50.824506</td>\n",
       "      <td>153.115607</td>\n",
       "      <td>whber</td>\n",
       "      <td>3.710675</td>\n",
       "      <td>51.035896</td>\n",
       "      <td>309.014451</td>\n",
       "      <td>2016</td>\n",
       "      <td>40</td>\n",
       "      <td>Thursday</td>\n",
       "      <td>False</td>\n",
       "    </tr>\n",
       "    <tr>\n",
       "      <th>3</th>\n",
       "      <td>hssqexnzirioaag</td>\n",
       "      <td>2016-10-06</td>\n",
       "      <td>07:00:00 AM</td>\n",
       "      <td>station$296</td>\n",
       "      <td>station$281</td>\n",
       "      <td>ICWYR</td>\n",
       "      <td>whber</td>\n",
       "      <td>5.599695</td>\n",
       "      <td>50.613152</td>\n",
       "      <td>87.130058</td>\n",
       "      <td>whber</td>\n",
       "      <td>5.566695</td>\n",
       "      <td>50.624550</td>\n",
       "      <td>269.124277</td>\n",
       "      <td>2016</td>\n",
       "      <td>40</td>\n",
       "      <td>Thursday</td>\n",
       "      <td>False</td>\n",
       "    </tr>\n",
       "    <tr>\n",
       "      <th>4</th>\n",
       "      <td>lublknpfraiznhr</td>\n",
       "      <td>2016-10-06</td>\n",
       "      <td>07:00:09 AM</td>\n",
       "      <td>station$281</td>\n",
       "      <td>station$266</td>\n",
       "      <td>ICWYR</td>\n",
       "      <td>whber</td>\n",
       "      <td>5.566695</td>\n",
       "      <td>50.624550</td>\n",
       "      <td>269.124277</td>\n",
       "      <td>whber</td>\n",
       "      <td>4.715866</td>\n",
       "      <td>50.882280</td>\n",
       "      <td>351.916185</td>\n",
       "      <td>2016</td>\n",
       "      <td>40</td>\n",
       "      <td>Thursday</td>\n",
       "      <td>False</td>\n",
       "    </tr>\n",
       "  </tbody>\n",
       "</table>\n",
       "</div>"
      ],
      "text/plain": [
       "           id_code current_date current_time  source_name destination_name  \\\n",
       "0  mckbezdplrukagl   2016-10-06  01:05:38 AM  station$143      station$142   \n",
       "1  agxwrnbmzbyxsjg   2016-10-06  01:05:56 AM  station$133      station$147   \n",
       "2  iqjojyewdyfshtj   2016-10-06  06:11:54 AM  station$632      station$544   \n",
       "3  hssqexnzirioaag   2016-10-06  07:00:00 AM  station$296      station$281   \n",
       "4  lublknpfraiznhr   2016-10-06  07:00:09 AM  station$281      station$266   \n",
       "\n",
       "  train_name country_code_source  longitude_source  latitude_source  \\\n",
       "0    SZAYASZ               whber          4.243393        50.866728   \n",
       "1     ICXYXY               whber          4.326220        50.880833   \n",
       "2      ICWAT               whber          3.264549        50.824506   \n",
       "3      ICWYR               whber          5.599695        50.613152   \n",
       "4      ICWYR               whber          5.566695        50.624550   \n",
       "\n",
       "   mean_halt_times_source country_code_destination  longitude_destination  \\\n",
       "0               39.121387                    whber               4.273543   \n",
       "1               95.676301                    whber               4.356801   \n",
       "2              153.115607                    whber               3.710675   \n",
       "3               87.130058                    whber               5.566695   \n",
       "4              269.124277                    whber               4.715866   \n",
       "\n",
       "   latitude_destination  mean_halt_times_destination  current_year  \\\n",
       "0             50.868337                    39.121387          2016   \n",
       "1             50.845658                   634.164740          2016   \n",
       "2             51.035896                   309.014451          2016   \n",
       "3             50.624550                   269.124277          2016   \n",
       "4             50.882280                   351.916185          2016   \n",
       "\n",
       "   current_week current_day  is_weekend  \n",
       "0            40    Thursday       False  \n",
       "1            40    Thursday       False  \n",
       "2            40    Thursday       False  \n",
       "3            40    Thursday       False  \n",
       "4            40    Thursday       False  "
      ]
     },
     "execution_count": 6,
     "metadata": {},
     "output_type": "execute_result"
    }
   ],
   "source": [
    "test_data.head()"
   ]
  },
  {
   "cell_type": "code",
   "execution_count": 7,
   "metadata": {},
   "outputs": [
    {
     "data": {
      "text/html": [
       "<div>\n",
       "<style scoped>\n",
       "    .dataframe tbody tr th:only-of-type {\n",
       "        vertical-align: middle;\n",
       "    }\n",
       "\n",
       "    .dataframe tbody tr th {\n",
       "        vertical-align: top;\n",
       "    }\n",
       "\n",
       "    .dataframe thead th {\n",
       "        text-align: right;\n",
       "    }\n",
       "</style>\n",
       "<table border=\"1\" class=\"dataframe\">\n",
       "  <thead>\n",
       "    <tr style=\"text-align: right;\">\n",
       "      <th></th>\n",
       "      <th>id_code</th>\n",
       "    </tr>\n",
       "  </thead>\n",
       "  <tbody>\n",
       "    <tr>\n",
       "      <th>0</th>\n",
       "      <td>mckbezdplrukagl</td>\n",
       "    </tr>\n",
       "    <tr>\n",
       "      <th>1</th>\n",
       "      <td>agxwrnbmzbyxsjg</td>\n",
       "    </tr>\n",
       "    <tr>\n",
       "      <th>2</th>\n",
       "      <td>iqjojyewdyfshtj</td>\n",
       "    </tr>\n",
       "    <tr>\n",
       "      <th>3</th>\n",
       "      <td>hssqexnzirioaag</td>\n",
       "    </tr>\n",
       "    <tr>\n",
       "      <th>4</th>\n",
       "      <td>lublknpfraiznhr</td>\n",
       "    </tr>\n",
       "  </tbody>\n",
       "</table>\n",
       "</div>"
      ],
      "text/plain": [
       "           id_code\n",
       "0  mckbezdplrukagl\n",
       "1  agxwrnbmzbyxsjg\n",
       "2  iqjojyewdyfshtj\n",
       "3  hssqexnzirioaag\n",
       "4  lublknpfraiznhr"
      ]
     },
     "execution_count": 7,
     "metadata": {},
     "output_type": "execute_result"
    }
   ],
   "source": [
    "my_submission = pd.DataFrame({'id_code': test_data['id_code']})\n",
    "my_submission.head()"
   ]
  },
  {
   "cell_type": "code",
   "execution_count": 8,
   "metadata": {},
   "outputs": [
    {
     "data": {
      "image/png": "[encoded data removed]",
      "text/plain": [
       "<Figure size 432x288 with 1 Axes>"
      ]
     },
     "metadata": {
      "needs_background": "light"
     },
     "output_type": "display_data"
    }
   ],
   "source": [
    "plt.title('Distribution of target variable')\n",
    "sns.countplot(train_data['target'])\n",
    "plt.show()"
   ]
  },
  {
   "cell_type": "code",
   "execution_count": 9,
   "metadata": {},
   "outputs": [
    {
     "data": {
      "text/plain": [
       "low       532\n",
       "high      392\n",
       "medium    360\n",
       "Name: target, dtype: int64"
      ]
     },
     "execution_count": 9,
     "metadata": {},
     "output_type": "execute_result"
    }
   ],
   "source": [
    "# Studying the target variable\n",
    "train_data['target'].value_counts()"
   ]
  },
  {
   "cell_type": "code",
   "execution_count": 10,
   "metadata": {},
   "outputs": [
    {
     "data": {
      "text/plain": [
       "id_code                         0\n",
       "current_date                    0\n",
       "current_time                    0\n",
       "source_name                     0\n",
       "destination_name                0\n",
       "train_name                      0\n",
       "target                          0\n",
       "country_code_source             1\n",
       "longitude_source                1\n",
       "latitude_source                 1\n",
       "mean_halt_times_source          1\n",
       "country_code_destination       33\n",
       "longitude_destination          33\n",
       "latitude_destination           33\n",
       "mean_halt_times_destination    33\n",
       "current_year                    0\n",
       "current_week                    0\n",
       "current_day                     0\n",
       "is_weekend                      0\n",
       "dtype: int64"
      ]
     },
     "execution_count": 10,
     "metadata": {},
     "output_type": "execute_result"
    }
   ],
   "source": [
    "train_data.isna().sum()"
   ]
  },
  {
   "cell_type": "code",
   "execution_count": 11,
   "metadata": {},
   "outputs": [
    {
     "data": {
      "text/plain": [
       "id_code                        0\n",
       "current_date                   0\n",
       "current_time                   0\n",
       "source_name                    0\n",
       "destination_name               0\n",
       "train_name                     0\n",
       "country_code_source            0\n",
       "longitude_source               0\n",
       "latitude_source                0\n",
       "mean_halt_times_source         0\n",
       "country_code_destination       0\n",
       "longitude_destination          0\n",
       "latitude_destination           0\n",
       "mean_halt_times_destination    0\n",
       "current_year                   0\n",
       "current_week                   0\n",
       "current_day                    0\n",
       "is_weekend                     0\n",
       "dtype: int64"
      ]
     },
     "execution_count": 11,
     "metadata": {},
     "output_type": "execute_result"
    }
   ],
   "source": [
    "test_data.isna().sum()"
   ]
  },
  {
   "cell_type": "code",
   "execution_count": 12,
   "metadata": {},
   "outputs": [
    {
     "data": {
      "text/plain": [
       "id_code                        1284\n",
       "current_date                     61\n",
       "current_time                   1262\n",
       "source_name                     188\n",
       "destination_name                218\n",
       "train_name                      560\n",
       "target                            3\n",
       "country_code_source               4\n",
       "longitude_source                187\n",
       "latitude_source                 187\n",
       "mean_halt_times_source          154\n",
       "country_code_destination          5\n",
       "longitude_destination           216\n",
       "latitude_destination            213\n",
       "mean_halt_times_destination     171\n",
       "current_year                      1\n",
       "current_week                     11\n",
       "current_day                       7\n",
       "is_weekend                        2\n",
       "dtype: int64"
      ]
     },
     "execution_count": 12,
     "metadata": {},
     "output_type": "execute_result"
    }
   ],
   "source": [
    "train_data.nunique()"
   ]
  },
  {
   "cell_type": "code",
   "execution_count": 13,
   "metadata": {},
   "outputs": [
    {
     "data": {
      "text/plain": [
       "id_code                        964\n",
       "current_date                    24\n",
       "current_time                   953\n",
       "source_name                    170\n",
       "destination_name               168\n",
       "train_name                     504\n",
       "country_code_source              3\n",
       "longitude_source               170\n",
       "latitude_source                170\n",
       "mean_halt_times_source         144\n",
       "country_code_destination         4\n",
       "longitude_destination          168\n",
       "latitude_destination           168\n",
       "mean_halt_times_destination    149\n",
       "current_year                     1\n",
       "current_week                     4\n",
       "current_day                      7\n",
       "is_weekend                       2\n",
       "dtype: int64"
      ]
     },
     "execution_count": 13,
     "metadata": {},
     "output_type": "execute_result"
    }
   ],
   "source": [
    "test_data.nunique()"
   ]
  },
  {
   "cell_type": "markdown",
   "metadata": {},
   "source": [
    "## Data Preprocessing"
   ]
  },
  {
   "cell_type": "code",
   "execution_count": 14,
   "metadata": {},
   "outputs": [],
   "source": [
    "# Dropping columns which will be of no use for our model\n",
    "col_list = ['id_code', 'current_year']"
   ]
  },
  {
   "cell_type": "code",
   "execution_count": 15,
   "metadata": {},
   "outputs": [],
   "source": [
    "# Dropping columns which will be of no use for our model\n",
    "train_data = train_data.drop(col_list, axis=1)\n",
    "test_data = test_data.drop(col_list, axis=1)"
   ]
  },
  {
   "cell_type": "code",
   "execution_count": 16,
   "metadata": {},
   "outputs": [],
   "source": [
    "# Function to extraxt year and month from datetime data\n",
    "def conv_date(date_list):\n",
    "    for i in date_list:\n",
    "        train_data[i] = pd.to_datetime(train_data[i])\n",
    "        test_data[i] = pd.to_datetime(test_data[i])"
   ]
  },
  {
   "cell_type": "code",
   "execution_count": 17,
   "metadata": {},
   "outputs": [],
   "source": [
    "date_list = ['current_date', 'current_time']\n",
    "conv_date(date_list)"
   ]
  },
  {
   "cell_type": "code",
   "execution_count": 18,
   "metadata": {},
   "outputs": [
    {
     "data": {
      "text/plain": [
       "current_date                   datetime64[ns]\n",
       "current_time                   datetime64[ns]\n",
       "source_name                            object\n",
       "destination_name                       object\n",
       "train_name                             object\n",
       "target                                 object\n",
       "country_code_source                    object\n",
       "longitude_source                      float64\n",
       "latitude_source                       float64\n",
       "mean_halt_times_source                float64\n",
       "country_code_destination               object\n",
       "longitude_destination                 float64\n",
       "latitude_destination                  float64\n",
       "mean_halt_times_destination           float64\n",
       "current_week                            int64\n",
       "current_day                            object\n",
       "is_weekend                               bool\n",
       "dtype: object"
      ]
     },
     "execution_count": 18,
     "metadata": {},
     "output_type": "execute_result"
    }
   ],
   "source": [
    "train_data.dtypes"
   ]
  },
  {
   "cell_type": "code",
   "execution_count": 19,
   "metadata": {},
   "outputs": [],
   "source": [
    "# Function to obtain year and month from datetime data\n",
    "def get_year(colname, dfcolname):\n",
    "    train_data[colname] = train_data[dfcolname].apply(lambda x:x.year)\n",
    "    test_data[colname] = test_data[dfcolname].apply(lambda x:x.year)\n",
    "def get_month(colname, dfcolname):\n",
    "    train_data[colname] = train_data[dfcolname].apply(lambda x:x.month)\n",
    "    test_data[colname] = test_data[dfcolname].apply(lambda x:x.month)\n",
    "def get_hour(colname, dfcolname):\n",
    "    train_data[colname] = train_data[dfcolname].apply(lambda x:x.hour)\n",
    "    test_data[colname] = test_data[dfcolname].apply(lambda x:x.hour)"
   ]
  },
  {
   "cell_type": "code",
   "execution_count": 20,
   "metadata": {},
   "outputs": [],
   "source": [
    "get_year('current_year', 'current_date')\n",
    "get_month('current_month', 'current_date')\n",
    "get_hour('current_hour', 'current_time')"
   ]
  },
  {
   "cell_type": "code",
   "execution_count": 21,
   "metadata": {},
   "outputs": [],
   "source": [
    "col_list = ['current_date', 'current_time', 'current_year']"
   ]
  },
  {
   "cell_type": "code",
   "execution_count": 22,
   "metadata": {},
   "outputs": [],
   "source": [
    "# Dropping columns which will be of no use for our model\n",
    "train_data = train_data.drop(col_list, axis=1)\n",
    "test_data = test_data.drop(col_list, axis=1)"
   ]
  },
  {
   "cell_type": "code",
   "execution_count": 23,
   "metadata": {
    "scrolled": true
   },
   "outputs": [
    {
     "data": {
      "text/html": [
       "<div>\n",
       "<style scoped>\n",
       "    .dataframe tbody tr th:only-of-type {\n",
       "        vertical-align: middle;\n",
       "    }\n",
       "\n",
       "    .dataframe tbody tr th {\n",
       "        vertical-align: top;\n",
       "    }\n",
       "\n",
       "    .dataframe thead th {\n",
       "        text-align: right;\n",
       "    }\n",
       "</style>\n",
       "<table border=\"1\" class=\"dataframe\">\n",
       "  <thead>\n",
       "    <tr style=\"text-align: right;\">\n",
       "      <th></th>\n",
       "      <th>source_name</th>\n",
       "      <th>destination_name</th>\n",
       "      <th>train_name</th>\n",
       "      <th>target</th>\n",
       "      <th>country_code_source</th>\n",
       "      <th>longitude_source</th>\n",
       "      <th>latitude_source</th>\n",
       "      <th>mean_halt_times_source</th>\n",
       "      <th>country_code_destination</th>\n",
       "      <th>longitude_destination</th>\n",
       "      <th>latitude_destination</th>\n",
       "      <th>mean_halt_times_destination</th>\n",
       "      <th>current_week</th>\n",
       "      <th>current_day</th>\n",
       "      <th>is_weekend</th>\n",
       "      <th>current_month</th>\n",
       "      <th>current_hour</th>\n",
       "    </tr>\n",
       "  </thead>\n",
       "  <tbody>\n",
       "    <tr>\n",
       "      <th>0</th>\n",
       "      <td>station$147</td>\n",
       "      <td>station$1</td>\n",
       "      <td>ICZVZS</td>\n",
       "      <td>high</td>\n",
       "      <td>whber</td>\n",
       "      <td>4.356801</td>\n",
       "      <td>50.845658</td>\n",
       "      <td>634.16474</td>\n",
       "      <td>NaN</td>\n",
       "      <td>NaN</td>\n",
       "      <td>NaN</td>\n",
       "      <td>NaN</td>\n",
       "      <td>30</td>\n",
       "      <td>Wednesday</td>\n",
       "      <td>False</td>\n",
       "      <td>7</td>\n",
       "      <td>20</td>\n",
       "    </tr>\n",
       "    <tr>\n",
       "      <th>1</th>\n",
       "      <td>station$147</td>\n",
       "      <td>station$1</td>\n",
       "      <td>ICZVZS</td>\n",
       "      <td>high</td>\n",
       "      <td>whber</td>\n",
       "      <td>4.356801</td>\n",
       "      <td>50.845658</td>\n",
       "      <td>634.16474</td>\n",
       "      <td>NaN</td>\n",
       "      <td>NaN</td>\n",
       "      <td>NaN</td>\n",
       "      <td>NaN</td>\n",
       "      <td>30</td>\n",
       "      <td>Wednesday</td>\n",
       "      <td>False</td>\n",
       "      <td>7</td>\n",
       "      <td>20</td>\n",
       "    </tr>\n",
       "    <tr>\n",
       "      <th>2</th>\n",
       "      <td>station$147</td>\n",
       "      <td>station$1</td>\n",
       "      <td>ICZVZS</td>\n",
       "      <td>high</td>\n",
       "      <td>whber</td>\n",
       "      <td>4.356801</td>\n",
       "      <td>50.845658</td>\n",
       "      <td>634.16474</td>\n",
       "      <td>NaN</td>\n",
       "      <td>NaN</td>\n",
       "      <td>NaN</td>\n",
       "      <td>NaN</td>\n",
       "      <td>30</td>\n",
       "      <td>Wednesday</td>\n",
       "      <td>False</td>\n",
       "      <td>7</td>\n",
       "      <td>20</td>\n",
       "    </tr>\n",
       "    <tr>\n",
       "      <th>3</th>\n",
       "      <td>station$147</td>\n",
       "      <td>station$1</td>\n",
       "      <td>ICZVZS</td>\n",
       "      <td>high</td>\n",
       "      <td>whber</td>\n",
       "      <td>4.356801</td>\n",
       "      <td>50.845658</td>\n",
       "      <td>634.16474</td>\n",
       "      <td>NaN</td>\n",
       "      <td>NaN</td>\n",
       "      <td>NaN</td>\n",
       "      <td>NaN</td>\n",
       "      <td>30</td>\n",
       "      <td>Wednesday</td>\n",
       "      <td>False</td>\n",
       "      <td>7</td>\n",
       "      <td>20</td>\n",
       "    </tr>\n",
       "    <tr>\n",
       "      <th>4</th>\n",
       "      <td>station$147</td>\n",
       "      <td>station$1</td>\n",
       "      <td>ICZVZS</td>\n",
       "      <td>high</td>\n",
       "      <td>whber</td>\n",
       "      <td>4.356801</td>\n",
       "      <td>50.845658</td>\n",
       "      <td>634.16474</td>\n",
       "      <td>NaN</td>\n",
       "      <td>NaN</td>\n",
       "      <td>NaN</td>\n",
       "      <td>NaN</td>\n",
       "      <td>30</td>\n",
       "      <td>Wednesday</td>\n",
       "      <td>False</td>\n",
       "      <td>7</td>\n",
       "      <td>20</td>\n",
       "    </tr>\n",
       "  </tbody>\n",
       "</table>\n",
       "</div>"
      ],
      "text/plain": [
       "   source_name destination_name train_name target country_code_source  \\\n",
       "0  station$147        station$1     ICZVZS   high               whber   \n",
       "1  station$147        station$1     ICZVZS   high               whber   \n",
       "2  station$147        station$1     ICZVZS   high               whber   \n",
       "3  station$147        station$1     ICZVZS   high               whber   \n",
       "4  station$147        station$1     ICZVZS   high               whber   \n",
       "\n",
       "   longitude_source  latitude_source  mean_halt_times_source  \\\n",
       "0          4.356801        50.845658               634.16474   \n",
       "1          4.356801        50.845658               634.16474   \n",
       "2          4.356801        50.845658               634.16474   \n",
       "3          4.356801        50.845658               634.16474   \n",
       "4          4.356801        50.845658               634.16474   \n",
       "\n",
       "  country_code_destination  longitude_destination  latitude_destination  \\\n",
       "0                      NaN                    NaN                   NaN   \n",
       "1                      NaN                    NaN                   NaN   \n",
       "2                      NaN                    NaN                   NaN   \n",
       "3                      NaN                    NaN                   NaN   \n",
       "4                      NaN                    NaN                   NaN   \n",
       "\n",
       "   mean_halt_times_destination  current_week current_day  is_weekend  \\\n",
       "0                          NaN            30   Wednesday       False   \n",
       "1                          NaN            30   Wednesday       False   \n",
       "2                          NaN            30   Wednesday       False   \n",
       "3                          NaN            30   Wednesday       False   \n",
       "4                          NaN            30   Wednesday       False   \n",
       "\n",
       "   current_month  current_hour  \n",
       "0              7            20  \n",
       "1              7            20  \n",
       "2              7            20  \n",
       "3              7            20  \n",
       "4              7            20  "
      ]
     },
     "execution_count": 23,
     "metadata": {},
     "output_type": "execute_result"
    }
   ],
   "source": [
    "train_data.head()"
   ]
  },
  {
   "cell_type": "code",
   "execution_count": 24,
   "metadata": {
    "scrolled": true
   },
   "outputs": [
    {
     "data": {
      "text/plain": [
       "source_name                     0\n",
       "destination_name                0\n",
       "train_name                      0\n",
       "target                          0\n",
       "country_code_source             1\n",
       "longitude_source                1\n",
       "latitude_source                 1\n",
       "mean_halt_times_source          1\n",
       "country_code_destination       33\n",
       "longitude_destination          33\n",
       "latitude_destination           33\n",
       "mean_halt_times_destination    33\n",
       "current_week                    0\n",
       "current_day                     0\n",
       "is_weekend                      0\n",
       "current_month                   0\n",
       "current_hour                    0\n",
       "dtype: int64"
      ]
     },
     "execution_count": 24,
     "metadata": {},
     "output_type": "execute_result"
    }
   ],
   "source": [
    "train_data.isna().sum()"
   ]
  },
  {
   "cell_type": "code",
   "execution_count": 25,
   "metadata": {},
   "outputs": [],
   "source": [
    "# Function to impute with None\n",
    "def impute_none(imp_none_list):\n",
    "    for i in imp_none_list:\n",
    "        train_data[i] = train_data[i].fillna('None')\n",
    "        test_data[i] = test_data[i].fillna('None')"
   ]
  },
  {
   "cell_type": "code",
   "execution_count": 26,
   "metadata": {},
   "outputs": [],
   "source": [
    "imp_none_list = ['country_code_source', 'country_code_destination']\n",
    "impute_none(imp_none_list)"
   ]
  },
  {
   "cell_type": "code",
   "execution_count": 27,
   "metadata": {},
   "outputs": [],
   "source": [
    "# Function to impute missing values by rounded value of mean\n",
    "def round_mean(imp_mean_list):\n",
    "    for i in imp_mean_list:\n",
    "        train_data[i] = train_data[i].fillna(round(train_data[i].mean()))\n",
    "        test_data[i] = test_data[i].fillna(round(train_data[i].mean()))"
   ]
  },
  {
   "cell_type": "code",
   "execution_count": 28,
   "metadata": {},
   "outputs": [],
   "source": [
    "imp_mean_list = ['longitude_source', 'latitude_source', 'longitude_destination', 'latitude_destination', \n",
    "                 'mean_halt_times_destination', 'mean_halt_times_source']\n",
    "round_mean(imp_mean_list)"
   ]
  },
  {
   "cell_type": "code",
   "execution_count": 29,
   "metadata": {},
   "outputs": [
    {
     "data": {
      "image/png": "[encoded data removed]",
      "text/plain": [
       "<Figure size 1440x864 with 6 Axes>"
      ]
     },
     "metadata": {
      "needs_background": "light"
     },
     "output_type": "display_data"
    }
   ],
   "source": [
    "# Plotting a boxplot to study the distribution of features\n",
    "fig,ax = plt.subplots(2,3, figsize=(20,12))               \n",
    "plt.suptitle(\"Distribution of various factors\", fontsize=20)\n",
    "sns.boxplot(train_data['longitude_source'], ax = ax[0,0]) \n",
    "sns.boxplot(train_data['longitude_destination'], ax = ax[1,0]) \n",
    "sns.boxplot(train_data['latitude_source'], ax = ax[0,1])  \n",
    "sns.boxplot(train_data['latitude_destination'], ax = ax[1,1])\n",
    "sns.boxplot(train_data['mean_halt_times_source'], ax = ax[0,2])\n",
    "sns.boxplot(train_data['mean_halt_times_destination'], ax = ax[1,2])\n",
    "plt.show()"
   ]
  },
  {
   "cell_type": "code",
   "execution_count": 30,
   "metadata": {},
   "outputs": [
    {
     "name": "stderr",
     "output_type": "stream",
     "text": [
      "F:\\Installed\\Anaconda3\\lib\\site-packages\\scipy\\stats\\stats.py:1713: FutureWarning: Using a non-tuple sequence for multidimensional indexing is deprecated; use `arr[tuple(seq)]` instead of `arr[seq]`. In the future this will be interpreted as an array index, `arr[np.array(seq)]`, which will result either in an error or a different result.\n",
      "  return np.add.reduce(sorted[indexer] * weights, axis=axis) / sumval\n"
     ]
    },
    {
     "data": {
      "image/png": "[encoded data removed]",
      "text/plain": [
       "<Figure size 1440x864 with 6 Axes>"
      ]
     },
     "metadata": {
      "needs_background": "light"
     },
     "output_type": "display_data"
    }
   ],
   "source": [
    "# Plotting a boxplot to study the distribution of features\n",
    "fig,ax = plt.subplots(2,3, figsize=(20,12))               \n",
    "plt.suptitle(\"Distribution of various factors\", fontsize=20)\n",
    "sns.distplot(train_data['longitude_source'], ax = ax[0,0]) \n",
    "sns.distplot(train_data['longitude_destination'], ax = ax[1,0]) \n",
    "sns.distplot(train_data['latitude_source'], ax = ax[0,1])  \n",
    "sns.distplot(train_data['latitude_destination'], ax = ax[1,1])  \n",
    "sns.boxplot(train_data['mean_halt_times_source'], ax = ax[0,2])\n",
    "sns.distplot(train_data['mean_halt_times_destination'], ax = ax[1,2])\n",
    "plt.show()"
   ]
  },
  {
   "cell_type": "code",
   "execution_count": 31,
   "metadata": {},
   "outputs": [],
   "source": [
    "col_list = ['longitude_source', 'longitude_destination', 'latitude_source', 'latitude_destination']\n",
    "# Dropping columns which will be of no use for our model\n",
    "train_data = train_data.drop(col_list, axis=1)\n",
    "test_data = test_data.drop(col_list, axis=1)"
   ]
  },
  {
   "cell_type": "code",
   "execution_count": 32,
   "metadata": {},
   "outputs": [
    {
     "data": {
      "text/html": [
       "<div>\n",
       "<style scoped>\n",
       "    .dataframe tbody tr th:only-of-type {\n",
       "        vertical-align: middle;\n",
       "    }\n",
       "\n",
       "    .dataframe tbody tr th {\n",
       "        vertical-align: top;\n",
       "    }\n",
       "\n",
       "    .dataframe thead th {\n",
       "        text-align: right;\n",
       "    }\n",
       "</style>\n",
       "<table border=\"1\" class=\"dataframe\">\n",
       "  <thead>\n",
       "    <tr style=\"text-align: right;\">\n",
       "      <th></th>\n",
       "      <th>source_name</th>\n",
       "      <th>destination_name</th>\n",
       "      <th>train_name</th>\n",
       "      <th>target</th>\n",
       "      <th>country_code_source</th>\n",
       "      <th>mean_halt_times_source</th>\n",
       "      <th>country_code_destination</th>\n",
       "      <th>mean_halt_times_destination</th>\n",
       "      <th>current_week</th>\n",
       "      <th>current_day</th>\n",
       "      <th>is_weekend</th>\n",
       "      <th>current_month</th>\n",
       "      <th>current_hour</th>\n",
       "    </tr>\n",
       "  </thead>\n",
       "  <tbody>\n",
       "    <tr>\n",
       "      <th>0</th>\n",
       "      <td>station$147</td>\n",
       "      <td>station$1</td>\n",
       "      <td>ICZVZS</td>\n",
       "      <td>high</td>\n",
       "      <td>whber</td>\n",
       "      <td>634.16474</td>\n",
       "      <td>None</td>\n",
       "      <td>272.0</td>\n",
       "      <td>30</td>\n",
       "      <td>Wednesday</td>\n",
       "      <td>False</td>\n",
       "      <td>7</td>\n",
       "      <td>20</td>\n",
       "    </tr>\n",
       "    <tr>\n",
       "      <th>1</th>\n",
       "      <td>station$147</td>\n",
       "      <td>station$1</td>\n",
       "      <td>ICZVZS</td>\n",
       "      <td>high</td>\n",
       "      <td>whber</td>\n",
       "      <td>634.16474</td>\n",
       "      <td>None</td>\n",
       "      <td>272.0</td>\n",
       "      <td>30</td>\n",
       "      <td>Wednesday</td>\n",
       "      <td>False</td>\n",
       "      <td>7</td>\n",
       "      <td>20</td>\n",
       "    </tr>\n",
       "    <tr>\n",
       "      <th>2</th>\n",
       "      <td>station$147</td>\n",
       "      <td>station$1</td>\n",
       "      <td>ICZVZS</td>\n",
       "      <td>high</td>\n",
       "      <td>whber</td>\n",
       "      <td>634.16474</td>\n",
       "      <td>None</td>\n",
       "      <td>272.0</td>\n",
       "      <td>30</td>\n",
       "      <td>Wednesday</td>\n",
       "      <td>False</td>\n",
       "      <td>7</td>\n",
       "      <td>20</td>\n",
       "    </tr>\n",
       "    <tr>\n",
       "      <th>3</th>\n",
       "      <td>station$147</td>\n",
       "      <td>station$1</td>\n",
       "      <td>ICZVZS</td>\n",
       "      <td>high</td>\n",
       "      <td>whber</td>\n",
       "      <td>634.16474</td>\n",
       "      <td>None</td>\n",
       "      <td>272.0</td>\n",
       "      <td>30</td>\n",
       "      <td>Wednesday</td>\n",
       "      <td>False</td>\n",
       "      <td>7</td>\n",
       "      <td>20</td>\n",
       "    </tr>\n",
       "    <tr>\n",
       "      <th>4</th>\n",
       "      <td>station$147</td>\n",
       "      <td>station$1</td>\n",
       "      <td>ICZVZS</td>\n",
       "      <td>high</td>\n",
       "      <td>whber</td>\n",
       "      <td>634.16474</td>\n",
       "      <td>None</td>\n",
       "      <td>272.0</td>\n",
       "      <td>30</td>\n",
       "      <td>Wednesday</td>\n",
       "      <td>False</td>\n",
       "      <td>7</td>\n",
       "      <td>20</td>\n",
       "    </tr>\n",
       "  </tbody>\n",
       "</table>\n",
       "</div>"
      ],
      "text/plain": [
       "   source_name destination_name train_name target country_code_source  \\\n",
       "0  station$147        station$1     ICZVZS   high               whber   \n",
       "1  station$147        station$1     ICZVZS   high               whber   \n",
       "2  station$147        station$1     ICZVZS   high               whber   \n",
       "3  station$147        station$1     ICZVZS   high               whber   \n",
       "4  station$147        station$1     ICZVZS   high               whber   \n",
       "\n",
       "   mean_halt_times_source country_code_destination  \\\n",
       "0               634.16474                     None   \n",
       "1               634.16474                     None   \n",
       "2               634.16474                     None   \n",
       "3               634.16474                     None   \n",
       "4               634.16474                     None   \n",
       "\n",
       "   mean_halt_times_destination  current_week current_day  is_weekend  \\\n",
       "0                        272.0            30   Wednesday       False   \n",
       "1                        272.0            30   Wednesday       False   \n",
       "2                        272.0            30   Wednesday       False   \n",
       "3                        272.0            30   Wednesday       False   \n",
       "4                        272.0            30   Wednesday       False   \n",
       "\n",
       "   current_month  current_hour  \n",
       "0              7            20  \n",
       "1              7            20  \n",
       "2              7            20  \n",
       "3              7            20  \n",
       "4              7            20  "
      ]
     },
     "execution_count": 32,
     "metadata": {},
     "output_type": "execute_result"
    }
   ],
   "source": [
    "train_data.head()"
   ]
  },
  {
   "cell_type": "markdown",
   "metadata": {},
   "source": [
    "## Encoding the values to prepare our model"
   ]
  },
  {
   "cell_type": "code",
   "execution_count": 33,
   "metadata": {},
   "outputs": [],
   "source": [
    "train_data[\"target\"] = train_data[\"target\"].replace('low', 0)\n",
    "train_data[\"target\"] = train_data[\"target\"].replace('medium', 1)\n",
    "train_data[\"target\"] = train_data[\"target\"].replace('high', 2)"
   ]
  },
  {
   "cell_type": "code",
   "execution_count": 34,
   "metadata": {},
   "outputs": [],
   "source": [
    "# Function to LabelEncode all the non numerical values\n",
    "def create_dummies(df):\n",
    "    for i in df.columns:\n",
    "        if df[i].dtypes=='object':\n",
    "            print(i,'encoded')\n",
    "            mask = ~df[i].isnull()\n",
    "            label_encoder = LabelEncoder() \n",
    "            try:\n",
    "                df[i][mask] = label_encoder.fit_transform(df[i][mask])\n",
    "                df[i] = df[i].astype(int)\n",
    "            except Exception as e:\n",
    "                print(e)\n",
    "    return df"
   ]
  },
  {
   "cell_type": "code",
   "execution_count": 35,
   "metadata": {},
   "outputs": [],
   "source": [
    "def encodeBool(l):\n",
    "    for i in l:\n",
    "        train_data[i] = train_data[i].replace(False, 0)\n",
    "        test_data[i] = test_data[i].replace(True, 1)"
   ]
  },
  {
   "cell_type": "code",
   "execution_count": 36,
   "metadata": {},
   "outputs": [],
   "source": [
    "l = ['is_weekend']\n",
    "encodeBool(l)"
   ]
  },
  {
   "cell_type": "code",
   "execution_count": 37,
   "metadata": {
    "scrolled": true
   },
   "outputs": [
    {
     "name": "stdout",
     "output_type": "stream",
     "text": [
      "source_name encoded\n",
      "destination_name encoded\n",
      "train_name encoded\n",
      "country_code_source encoded\n",
      "country_code_destination encoded\n",
      "current_day encoded\n"
     ]
    },
    {
     "name": "stderr",
     "output_type": "stream",
     "text": [
      "F:\\Installed\\Anaconda3\\lib\\site-packages\\ipykernel_launcher.py:9: SettingWithCopyWarning: \n",
      "A value is trying to be set on a copy of a slice from a DataFrame\n",
      "\n",
      "See the caveats in the documentation: http://pandas.pydata.org/pandas-docs/stable/indexing.html#indexing-view-versus-copy\n",
      "  if __name__ == '__main__':\n"
     ]
    }
   ],
   "source": [
    "train_data = create_dummies(train_data)"
   ]
  },
  {
   "cell_type": "code",
   "execution_count": 38,
   "metadata": {},
   "outputs": [
    {
     "name": "stdout",
     "output_type": "stream",
     "text": [
      "source_name encoded\n",
      "destination_name encoded\n",
      "train_name encoded\n",
      "country_code_source encoded\n",
      "country_code_destination encoded\n",
      "current_day encoded\n"
     ]
    },
    {
     "name": "stderr",
     "output_type": "stream",
     "text": [
      "F:\\Installed\\Anaconda3\\lib\\site-packages\\ipykernel_launcher.py:9: SettingWithCopyWarning: \n",
      "A value is trying to be set on a copy of a slice from a DataFrame\n",
      "\n",
      "See the caveats in the documentation: http://pandas.pydata.org/pandas-docs/stable/indexing.html#indexing-view-versus-copy\n",
      "  if __name__ == '__main__':\n"
     ]
    }
   ],
   "source": [
    "test_data = create_dummies(test_data)"
   ]
  },
  {
   "cell_type": "code",
   "execution_count": 39,
   "metadata": {
    "scrolled": true
   },
   "outputs": [
    {
     "data": {
      "text/plain": [
       "source_name                      int32\n",
       "destination_name                 int32\n",
       "train_name                       int32\n",
       "target                           int64\n",
       "country_code_source              int32\n",
       "mean_halt_times_source         float64\n",
       "country_code_destination         int32\n",
       "mean_halt_times_destination    float64\n",
       "current_week                     int64\n",
       "current_day                      int32\n",
       "is_weekend                     float64\n",
       "current_month                    int64\n",
       "current_hour                     int64\n",
       "dtype: object"
      ]
     },
     "execution_count": 39,
     "metadata": {},
     "output_type": "execute_result"
    }
   ],
   "source": [
    "train_data.dtypes"
   ]
  },
  {
   "cell_type": "code",
   "execution_count": 40,
   "metadata": {},
   "outputs": [
    {
     "data": {
      "text/plain": [
       "source_name                      int32\n",
       "destination_name                 int32\n",
       "train_name                       int32\n",
       "country_code_source              int32\n",
       "mean_halt_times_source         float64\n",
       "country_code_destination         int32\n",
       "mean_halt_times_destination    float64\n",
       "current_week                     int64\n",
       "current_day                      int32\n",
       "is_weekend                     float64\n",
       "current_month                    int64\n",
       "current_hour                     int64\n",
       "dtype: object"
      ]
     },
     "execution_count": 40,
     "metadata": {},
     "output_type": "execute_result"
    }
   ],
   "source": [
    "test_data.dtypes"
   ]
  },
  {
   "cell_type": "code",
   "execution_count": 41,
   "metadata": {},
   "outputs": [
    {
     "data": {
      "image/png": "[encoded data removed]",
      "text/plain": [
       "<Figure size 1440x1440 with 2 Axes>"
      ]
     },
     "metadata": {
      "needs_background": "light"
     },
     "output_type": "display_data"
    }
   ],
   "source": [
    "# Heatmap\n",
    "corr = train_data.corr()\n",
    "plt.figure(figsize=(20,20))\n",
    "sns.heatmap(corr, cbar=True, square= True, fmt='.1f', annot=True, annot_kws={'size':20}, cmap='Greens')\n",
    "plt.title('Correlation Matrix \\n (use for reference)', fontsize=14)\n",
    "plt.show()"
   ]
  },
  {
   "cell_type": "markdown",
   "metadata": {},
   "source": [
    "## Building the ML models"
   ]
  },
  {
   "cell_type": "code",
   "execution_count": 42,
   "metadata": {},
   "outputs": [],
   "source": [
    "# Undersampling before cross validating (prone to overfit)\n",
    "X = train_data.drop('target', axis=1)\n",
    "y = train_data['target']"
   ]
  },
  {
   "cell_type": "code",
   "execution_count": 43,
   "metadata": {},
   "outputs": [],
   "source": [
    "# Splitting the data into training set and testset\n",
    "from sklearn.model_selection import train_test_split\n",
    "X_train, X_test, y_train, y_test = train_test_split(X,y, test_size = 0.20, random_state = 42)"
   ]
  },
  {
   "cell_type": "code",
   "execution_count": 44,
   "metadata": {},
   "outputs": [],
   "source": [
    "# A function to create confusion matrix function to find out sensitivity and specificity\n",
    "from sklearn.metrics import confusion_matrix\n",
    "def draw_cm(actual, predicted):\n",
    "    cm = confusion_matrix( actual, predicted, [1,0]).T\n",
    "    sns.heatmap(cm, annot=True,  fmt='.2f', xticklabels = [\"Yes\",\"No\"] , yticklabels = [\"Yes\",\"No\"] )\n",
    "    plt.ylabel('Predicted')\n",
    "    plt.xlabel('Actual')\n",
    "    plt.show()"
   ]
  },
  {
   "cell_type": "markdown",
   "metadata": {},
   "source": [
    "## Logistic Regression"
   ]
  },
  {
   "cell_type": "code",
   "execution_count": 45,
   "metadata": {},
   "outputs": [
    {
     "name": "stderr",
     "output_type": "stream",
     "text": [
      "F:\\Installed\\Anaconda3\\lib\\site-packages\\sklearn\\linear_model\\logistic.py:433: FutureWarning: Default solver will be changed to 'lbfgs' in 0.22. Specify a solver to silence this warning.\n",
      "  FutureWarning)\n",
      "F:\\Installed\\Anaconda3\\lib\\site-packages\\sklearn\\linear_model\\logistic.py:460: FutureWarning: Default multi_class will be changed to 'auto' in 0.22. Specify the multi_class option to silence this warning.\n",
      "  \"this warning.\", FutureWarning)\n"
     ]
    },
    {
     "data": {
      "text/plain": [
       "LogisticRegression(C=1.0, class_weight=None, dual=False, fit_intercept=True,\n",
       "          intercept_scaling=1, max_iter=100, multi_class='warn',\n",
       "          n_jobs=None, penalty='l2', random_state=None, solver='warn',\n",
       "          tol=0.0001, verbose=0, warm_start=False)"
      ]
     },
     "execution_count": 45,
     "metadata": {},
     "output_type": "execute_result"
    }
   ],
   "source": [
    "# Logistic Regression\n",
    "\n",
    "# Import library for LogisticRegression\n",
    "from sklearn.linear_model import LogisticRegression\n",
    "\n",
    "# Create a Logistic regression classifier\n",
    "logreg = LogisticRegression()\n",
    "\n",
    "# Train the model using the training sets \n",
    "logreg.fit(X_train, y_train)"
   ]
  },
  {
   "cell_type": "code",
   "execution_count": 46,
   "metadata": {},
   "outputs": [],
   "source": [
    "# Prediction on test data\n",
    "y_pred = logreg.predict(X_test)"
   ]
  },
  {
   "cell_type": "code",
   "execution_count": 47,
   "metadata": {},
   "outputs": [
    {
     "name": "stdout",
     "output_type": "stream",
     "text": [
      "Total Accuracy :  52.14\n"
     ]
    }
   ],
   "source": [
    "# Calculating the accuracy, precision and the recall\n",
    "acc_logreg = round( metrics.accuracy_score(y_test, y_pred) * 100, 2 )\n",
    "print( 'Total Accuracy : ', acc_logreg )"
   ]
  },
  {
   "cell_type": "code",
   "execution_count": 48,
   "metadata": {},
   "outputs": [],
   "source": [
    "# Create confusion matrix function to find out sensitivity and specificity\n",
    "from sklearn.metrics import confusion_matrix\n",
    "def draw_cm(actual, predicted):\n",
    "    cm = confusion_matrix( actual, predicted, [1,0]).T\n",
    "    sns.heatmap(cm, annot=True,  fmt='.2f', xticklabels = [\"Yes\",\"No\"] , yticklabels = [\"Yes\",\"No\"] )\n",
    "    plt.ylabel('Predicted')\n",
    "    plt.xlabel('Actual')\n",
    "    plt.show()"
   ]
  },
  {
   "cell_type": "code",
   "execution_count": 49,
   "metadata": {},
   "outputs": [
    {
     "data": {
      "image/png": "[encoded data removed]",
      "text/plain": [
       "<Figure size 432x288 with 2 Axes>"
      ]
     },
     "metadata": {
      "needs_background": "light"
     },
     "output_type": "display_data"
    }
   ],
   "source": [
    "# Confusion matrix \n",
    "draw_cm(y_test, y_pred)"
   ]
  },
  {
   "cell_type": "markdown",
   "metadata": {},
   "source": [
    "## Gaussian Naive Bayes"
   ]
  },
  {
   "cell_type": "code",
   "execution_count": 50,
   "metadata": {},
   "outputs": [
    {
     "data": {
      "text/plain": [
       "GaussianNB(priors=None, var_smoothing=1e-09)"
      ]
     },
     "execution_count": 50,
     "metadata": {},
     "output_type": "execute_result"
    }
   ],
   "source": [
    "# Gaussian Naive Bayes\n",
    "\n",
    "# Import library of Gaussian Naive Bayes model\n",
    "from sklearn.naive_bayes import GaussianNB\n",
    "\n",
    "# Create a Gaussian Classifier\n",
    "model = GaussianNB()\n",
    "\n",
    "# Train the model using the training sets \n",
    "model.fit(X_train,y_train)"
   ]
  },
  {
   "cell_type": "code",
   "execution_count": 51,
   "metadata": {},
   "outputs": [],
   "source": [
    "# Prediction on test set\n",
    "y_pred = model.predict(X_test)"
   ]
  },
  {
   "cell_type": "code",
   "execution_count": 52,
   "metadata": {},
   "outputs": [
    {
     "name": "stdout",
     "output_type": "stream",
     "text": [
      "Total Accuracy :  42.02\n"
     ]
    }
   ],
   "source": [
    "# Calculating the accuracy, precision and the recall\n",
    "acc_nb = round( metrics.accuracy_score(y_test, y_pred) * 100, 2 )\n",
    "print( 'Total Accuracy : ', acc_nb )"
   ]
  },
  {
   "cell_type": "code",
   "execution_count": 53,
   "metadata": {},
   "outputs": [
    {
     "data": {
      "image/png": "[encoded data removed]",
      "text/plain": [
       "<Figure size 432x288 with 2 Axes>"
      ]
     },
     "metadata": {
      "needs_background": "light"
     },
     "output_type": "display_data"
    }
   ],
   "source": [
    "# Confusion matrix \n",
    "draw_cm(y_test, y_pred)"
   ]
  },
  {
   "cell_type": "markdown",
   "metadata": {},
   "source": [
    "## Decision Tree Classifier"
   ]
  },
  {
   "cell_type": "code",
   "execution_count": 54,
   "metadata": {},
   "outputs": [
    {
     "data": {
      "text/plain": [
       "DecisionTreeClassifier(class_weight=None, criterion='gini', max_depth=None,\n",
       "            max_features=None, max_leaf_nodes=None,\n",
       "            min_impurity_decrease=0.0, min_impurity_split=None,\n",
       "            min_samples_leaf=1, min_samples_split=2,\n",
       "            min_weight_fraction_leaf=0.0, presort=False, random_state=None,\n",
       "            splitter='best')"
      ]
     },
     "execution_count": 54,
     "metadata": {},
     "output_type": "execute_result"
    }
   ],
   "source": [
    "# Decision Tree Classifier\n",
    "\n",
    "# Import Decision tree classifier\n",
    "from sklearn.tree import DecisionTreeClassifier\n",
    "\n",
    "# Create a Decision tree classifier model\n",
    "clf = DecisionTreeClassifier()\n",
    "\n",
    "# Train the model using the training sets \n",
    "clf.fit(X_train, y_train)"
   ]
  },
  {
   "cell_type": "code",
   "execution_count": 55,
   "metadata": {},
   "outputs": [],
   "source": [
    "# Model prediction on train data\n",
    "y_pred = clf.predict(X_train)"
   ]
  },
  {
   "cell_type": "code",
   "execution_count": 56,
   "metadata": {},
   "outputs": [],
   "source": [
    "# Finding the variable with more importance\n",
    "feature_importance = pd.DataFrame([X_train.columns, clf.tree_.compute_feature_importances()])\n",
    "feature_importance = feature_importance.T.sort_values(by = 1, ascending=False)[1:10]"
   ]
  },
  {
   "cell_type": "code",
   "execution_count": 57,
   "metadata": {},
   "outputs": [
    {
     "name": "stderr",
     "output_type": "stream",
     "text": [
      "No handles with labels found to put in legend.\n"
     ]
    },
    {
     "data": {
      "image/png": "[encoded data removed]",
      "text/plain": [
       "<Figure size 432x288 with 1 Axes>"
      ]
     },
     "metadata": {
      "needs_background": "light"
     },
     "output_type": "display_data"
    }
   ],
   "source": [
    "sns.barplot(x=feature_importance[1], y=feature_importance[0])\n",
    "# Add labels to the graph\n",
    "plt.xlabel('Feature Importance Score')\n",
    "plt.ylabel('Features')\n",
    "plt.title(\"Visualizing Important Features\")\n",
    "plt.legend()\n",
    "plt.show()"
   ]
  },
  {
   "cell_type": "code",
   "execution_count": 58,
   "metadata": {},
   "outputs": [],
   "source": [
    "# Prediction on test set\n",
    "y_pred = clf.predict(X_test)"
   ]
  },
  {
   "cell_type": "code",
   "execution_count": 59,
   "metadata": {},
   "outputs": [
    {
     "data": {
      "image/png": "[encoded data removed]",
      "text/plain": [
       "<Figure size 432x288 with 2 Axes>"
      ]
     },
     "metadata": {
      "needs_background": "light"
     },
     "output_type": "display_data"
    }
   ],
   "source": [
    "# Confusion matrix\n",
    "draw_cm(y_test, y_pred)"
   ]
  },
  {
   "cell_type": "code",
   "execution_count": 60,
   "metadata": {},
   "outputs": [
    {
     "name": "stdout",
     "output_type": "stream",
     "text": [
      "Total Accuracy :  54.86\n"
     ]
    }
   ],
   "source": [
    "# Calculating the accuracy, precision and the recall\n",
    "acc_dt = round( metrics.accuracy_score(y_test, y_pred) * 100, 2 )\n",
    "print( 'Total Accuracy : ', acc_dt )"
   ]
  },
  {
   "cell_type": "markdown",
   "metadata": {},
   "source": [
    "## Random Forest Classifier"
   ]
  },
  {
   "cell_type": "code",
   "execution_count": 61,
   "metadata": {},
   "outputs": [
    {
     "name": "stderr",
     "output_type": "stream",
     "text": [
      "F:\\Installed\\Anaconda3\\lib\\site-packages\\sklearn\\ensemble\\forest.py:246: FutureWarning: The default value of n_estimators will change from 10 in version 0.20 to 100 in 0.22.\n",
      "  \"10 in version 0.20 to 100 in 0.22.\", FutureWarning)\n"
     ]
    },
    {
     "data": {
      "text/plain": [
       "RandomForestClassifier(bootstrap=True, class_weight=None, criterion='gini',\n",
       "            max_depth=None, max_features='auto', max_leaf_nodes=None,\n",
       "            min_impurity_decrease=0.0, min_impurity_split=None,\n",
       "            min_samples_leaf=1, min_samples_split=2,\n",
       "            min_weight_fraction_leaf=0.0, n_estimators=10, n_jobs=None,\n",
       "            oob_score=False, random_state=None, verbose=0,\n",
       "            warm_start=False)"
      ]
     },
     "execution_count": 61,
     "metadata": {},
     "output_type": "execute_result"
    }
   ],
   "source": [
    "# Random Forest Classifier\n",
    "\n",
    "# Import library of RandomForestClassifier model\n",
    "from sklearn.ensemble import RandomForestClassifier\n",
    "\n",
    "# Create a Random Forest Classifier\n",
    "rf = RandomForestClassifier()\n",
    "\n",
    "# Train the model using the training sets \n",
    "rf.fit(X_train,y_train)"
   ]
  },
  {
   "cell_type": "code",
   "execution_count": 62,
   "metadata": {},
   "outputs": [
    {
     "name": "stderr",
     "output_type": "stream",
     "text": [
      "No handles with labels found to put in legend.\n"
     ]
    },
    {
     "data": {
      "image/png": "[encoded data removed]",
      "text/plain": [
       "<Figure size 432x288 with 1 Axes>"
      ]
     },
     "metadata": {
      "needs_background": "light"
     },
     "output_type": "display_data"
    }
   ],
   "source": [
    "# Finding the variable with more importance\n",
    "feature_imp = pd.Series(rf.feature_importances_,index= X_train.columns).sort_values(ascending=False)\n",
    "# Creating a bar plot\n",
    "feature_imp=feature_imp[0:10,]\n",
    "sns.barplot(x=feature_imp, y=feature_imp.index)\n",
    "# Add labels to the graph\n",
    "plt.xlabel('Feature Importance Score')\n",
    "plt.ylabel('Features')\n",
    "plt.title(\"Visualizing Important Features\")\n",
    "plt.legend()\n",
    "plt.show()"
   ]
  },
  {
   "cell_type": "code",
   "execution_count": 63,
   "metadata": {},
   "outputs": [],
   "source": [
    "# Prediction on test data\n",
    "y_pred = rf.predict(X_test)"
   ]
  },
  {
   "cell_type": "code",
   "execution_count": 64,
   "metadata": {},
   "outputs": [
    {
     "data": {
      "image/png": "[encoded data removed]",
      "text/plain": [
       "<Figure size 432x288 with 2 Axes>"
      ]
     },
     "metadata": {
      "needs_background": "light"
     },
     "output_type": "display_data"
    }
   ],
   "source": [
    "# Confusion metrix\n",
    "draw_cm(y_test, y_pred)"
   ]
  },
  {
   "cell_type": "code",
   "execution_count": 65,
   "metadata": {},
   "outputs": [
    {
     "name": "stdout",
     "output_type": "stream",
     "text": [
      "Total Accuracy :  53.7\n"
     ]
    }
   ],
   "source": [
    "# Calculating the accuracy, precision and the recall\n",
    "acc_rf = round( metrics.accuracy_score(y_test, y_pred) * 100 , 2 )\n",
    "print( 'Total Accuracy : ', acc_rf )"
   ]
  },
  {
   "cell_type": "markdown",
   "metadata": {},
   "source": [
    "## K - Nearest Neighbors"
   ]
  },
  {
   "cell_type": "code",
   "execution_count": 66,
   "metadata": {},
   "outputs": [
    {
     "data": {
      "text/plain": [
       "KNeighborsClassifier(algorithm='auto', leaf_size=30, metric='minkowski',\n",
       "           metric_params=None, n_jobs=None, n_neighbors=5, p=2,\n",
       "           weights='uniform')"
      ]
     },
     "execution_count": 66,
     "metadata": {},
     "output_type": "execute_result"
    }
   ],
   "source": [
    "# K - Nearest Neighbors\n",
    "\n",
    "# Import library of KNeighborsClassifier model\n",
    "from sklearn.neighbors import KNeighborsClassifier\n",
    "\n",
    "# Create a KNN Classifier\n",
    "knn = KNeighborsClassifier()\n",
    "\n",
    "# Train the model using the training sets \n",
    "knn.fit(X_train,y_train)"
   ]
  },
  {
   "cell_type": "code",
   "execution_count": 67,
   "metadata": {},
   "outputs": [],
   "source": [
    "# Prediction on test data\n",
    "y_pred = knn.predict(X_test)"
   ]
  },
  {
   "cell_type": "code",
   "execution_count": 68,
   "metadata": {},
   "outputs": [
    {
     "data": {
      "image/png": "[encoded data removed]",
      "text/plain": [
       "<Figure size 432x288 with 2 Axes>"
      ]
     },
     "metadata": {
      "needs_background": "light"
     },
     "output_type": "display_data"
    }
   ],
   "source": [
    "# Confusion Matrix\n",
    "draw_cm(y_test, y_pred)"
   ]
  },
  {
   "cell_type": "code",
   "execution_count": 69,
   "metadata": {},
   "outputs": [
    {
     "name": "stdout",
     "output_type": "stream",
     "text": [
      "Total Accuracy :  45.14\n"
     ]
    }
   ],
   "source": [
    "# Calculating the accuracy, precision and the recall\n",
    "acc_knn = round( metrics.accuracy_score(y_test, y_pred) * 100, 2 )\n",
    "print( 'Total Accuracy : ', acc_knn )"
   ]
  },
  {
   "cell_type": "markdown",
   "metadata": {},
   "source": [
    "## XGBoost"
   ]
  },
  {
   "cell_type": "code",
   "execution_count": 70,
   "metadata": {},
   "outputs": [
    {
     "data": {
      "text/plain": [
       "XGBClassifier(base_score=0.5, booster='gbtree', colsample_bylevel=1,\n",
       "       colsample_bytree=1, gamma=0, learning_rate=0.02, max_delta_step=0,\n",
       "       max_depth=3, min_child_weight=1, missing=None, n_estimators=1000,\n",
       "       n_jobs=1, nthread=1, num_class=5, objective='multi:softprob',\n",
       "       random_state=0, reg_alpha=0, reg_lambda=1, scale_pos_weight=1,\n",
       "       seed=None, silent=True, subsample=1)"
      ]
     },
     "execution_count": 70,
     "metadata": {},
     "output_type": "execute_result"
    }
   ],
   "source": [
    "# eXtreme Gradient Boosting\n",
    "\n",
    "# Import library of xgboost model\n",
    "from xgboost import XGBClassifier, plot_importance\n",
    "\n",
    "# Create a XGB Classifier\n",
    "gbm = XGBClassifier(learning_rate=0.02, n_estimators=1000, objective='multi:softmax', silent=True, nthread=1, num_class=5)\n",
    "\n",
    "# # A parameter grid for XGBoost for Hyperparameter Optimization\n",
    "# parameters = {\n",
    "#         'min_child_weight': [1, 5, 10],\n",
    "#         'gamma': [0.1, 0.5, 1, 1.5, 2, 5],\n",
    "#         'subsample': [0.6, 0.8, 1.0],\n",
    "#         'colsample_bytree': [0.6, 0.8, 1.0],\n",
    "#         'max_depth': [3, 5, 6]\n",
    "#         }\n",
    "\n",
    "# # Run the grid search\n",
    "# grid_obj = GridSearchCV(gbm, parameters)\n",
    "# grid_obj = grid_obj.fit(X_train, y_train)\n",
    "\n",
    "# # Set the rf to the best combination of parameters\n",
    "# gbm = grid_obj.best_estimator_\n",
    "\n",
    "# Train the model using the training sets\n",
    "gbm.fit(X_train, y_train)"
   ]
  },
  {
   "cell_type": "code",
   "execution_count": 71,
   "metadata": {},
   "outputs": [],
   "source": [
    "# Prediction on test data\n",
    "y_pred = gbm.predict(X_test)"
   ]
  },
  {
   "cell_type": "code",
   "execution_count": 72,
   "metadata": {},
   "outputs": [
    {
     "name": "stdout",
     "output_type": "stream",
     "text": [
      "Total Accuracy :  56.81\n"
     ]
    }
   ],
   "source": [
    "# Calculating the accuracy, precision and the recall\n",
    "acc_xgb = round( metrics.accuracy_score(y_test, y_pred) * 100 , 2 )\n",
    "print( 'Total Accuracy : ', acc_xgb )"
   ]
  },
  {
   "cell_type": "code",
   "execution_count": 73,
   "metadata": {},
   "outputs": [
    {
     "data": {
      "image/png": "[encoded data removed]",
      "text/plain": [
       "<Figure size 432x288 with 2 Axes>"
      ]
     },
     "metadata": {
      "needs_background": "light"
     },
     "output_type": "display_data"
    }
   ],
   "source": [
    "# Confusion matrix \n",
    "draw_cm(y_test, y_pred)"
   ]
  },
  {
   "cell_type": "code",
   "execution_count": 74,
   "metadata": {},
   "outputs": [
    {
     "data": {
      "image/png": "[encoded data removed]",
      "text/plain": [
       "<Figure size 864x1080 with 1 Axes>"
      ]
     },
     "metadata": {
      "needs_background": "light"
     },
     "output_type": "display_data"
    }
   ],
   "source": [
    "# Feature Engineering\n",
    "fig, ax = plt.subplots(figsize=(12,15))\n",
    "plot_importance(gbm, max_num_features=50, height=0.8, ax=ax)\n",
    "plt.show()"
   ]
  },
  {
   "cell_type": "code",
   "execution_count": 75,
   "metadata": {},
   "outputs": [
    {
     "data": {
      "text/plain": [
       "{'current_week': 2.7937727482163295,\n",
       " 'destination_name': 1.415129402160324,\n",
       " 'current_day': 1.1815277123303363,\n",
       " 'train_name': 1.239473103272022,\n",
       " 'mean_halt_times_source': 1.217550496914704,\n",
       " 'country_code_destination': 3.9474406331812495,\n",
       " 'current_hour': 1.2222469858319016,\n",
       " 'source_name': 1.0451956177434407,\n",
       " 'mean_halt_times_destination': 1.102647305864677,\n",
       " 'current_month': 1.410934437859155,\n",
       " 'is_weekend': 1.4606817592653063}"
      ]
     },
     "execution_count": 75,
     "metadata": {},
     "output_type": "execute_result"
    }
   ],
   "source": [
    "gbm.get_booster().get_score(importance_type=\"gain\")"
   ]
  },
  {
   "cell_type": "markdown",
   "metadata": {},
   "source": [
    "## SVM Classifier"
   ]
  },
  {
   "cell_type": "code",
   "execution_count": 76,
   "metadata": {},
   "outputs": [
    {
     "name": "stderr",
     "output_type": "stream",
     "text": [
      "F:\\Installed\\Anaconda3\\lib\\site-packages\\sklearn\\preprocessing\\data.py:625: DataConversionWarning: Data with input dtype int32, int64, float64 were all converted to float64 by StandardScaler.\n",
      "  return self.partial_fit(X, y)\n",
      "F:\\Installed\\Anaconda3\\lib\\site-packages\\sklearn\\base.py:462: DataConversionWarning: Data with input dtype int32, int64, float64 were all converted to float64 by StandardScaler.\n",
      "  return self.fit(X, **fit_params).transform(X)\n",
      "F:\\Installed\\Anaconda3\\lib\\site-packages\\ipykernel_launcher.py:7: DataConversionWarning: Data with input dtype int32, int64, float64 were all converted to float64 by StandardScaler.\n",
      "  import sys\n"
     ]
    }
   ],
   "source": [
    "# SVM Classifier\n",
    "\n",
    "# Creating scaled set to be used in model to improve the results\n",
    "from sklearn.preprocessing import StandardScaler\n",
    "sc = StandardScaler()\n",
    "X_train = sc.fit_transform(X_train)\n",
    "X_test = sc.transform(X_test)"
   ]
  },
  {
   "cell_type": "code",
   "execution_count": 77,
   "metadata": {},
   "outputs": [
    {
     "data": {
      "text/plain": [
       "SVC(C=1.0, cache_size=200, class_weight=None, coef0=0.0,\n",
       "  decision_function_shape='ovr', degree=3, gamma='auto_deprecated',\n",
       "  kernel='rbf', max_iter=-1, probability=False, random_state=None,\n",
       "  shrinking=True, tol=0.001, verbose=False)"
      ]
     },
     "execution_count": 77,
     "metadata": {},
     "output_type": "execute_result"
    }
   ],
   "source": [
    "# Import Library of Support Vector Machine model\n",
    "from sklearn import svm\n",
    "\n",
    "# Create a Support Vector Classifier\n",
    "svc = svm.SVC()\n",
    "\n",
    "# Train the model using the training sets \n",
    "svc.fit(X_train,y_train)"
   ]
  },
  {
   "cell_type": "code",
   "execution_count": 78,
   "metadata": {},
   "outputs": [],
   "source": [
    "# Prediction on test data\n",
    "y_pred = svc.predict(X_test)"
   ]
  },
  {
   "cell_type": "code",
   "execution_count": 79,
   "metadata": {},
   "outputs": [
    {
     "data": {
      "image/png": "[encoded data removed]",
      "text/plain": [
       "<Figure size 432x288 with 2 Axes>"
      ]
     },
     "metadata": {
      "needs_background": "light"
     },
     "output_type": "display_data"
    }
   ],
   "source": [
    "# Confusion Matrix\n",
    "draw_cm(y_test, y_pred)"
   ]
  },
  {
   "cell_type": "code",
   "execution_count": 80,
   "metadata": {},
   "outputs": [
    {
     "name": "stdout",
     "output_type": "stream",
     "text": [
      "Total Accuracy :  50.58\n"
     ]
    }
   ],
   "source": [
    "# Calculating the accuracy, precision and the recall\n",
    "acc_svm = round( metrics.accuracy_score(y_test, y_pred) * 100, 2 )\n",
    "print( 'Total Accuracy : ', acc_svm )"
   ]
  },
  {
   "cell_type": "markdown",
   "metadata": {},
   "source": [
    "## Evaluating and Comparing the models"
   ]
  },
  {
   "cell_type": "code",
   "execution_count": 81,
   "metadata": {},
   "outputs": [
    {
     "data": {
      "text/html": [
       "<div>\n",
       "<style scoped>\n",
       "    .dataframe tbody tr th:only-of-type {\n",
       "        vertical-align: middle;\n",
       "    }\n",
       "\n",
       "    .dataframe tbody tr th {\n",
       "        vertical-align: top;\n",
       "    }\n",
       "\n",
       "    .dataframe thead th {\n",
       "        text-align: right;\n",
       "    }\n",
       "</style>\n",
       "<table border=\"1\" class=\"dataframe\">\n",
       "  <thead>\n",
       "    <tr style=\"text-align: right;\">\n",
       "      <th></th>\n",
       "      <th>Model</th>\n",
       "      <th>Score</th>\n",
       "    </tr>\n",
       "  </thead>\n",
       "  <tbody>\n",
       "    <tr>\n",
       "      <th>6</th>\n",
       "      <td>XGBoost</td>\n",
       "      <td>56.81</td>\n",
       "    </tr>\n",
       "    <tr>\n",
       "      <th>2</th>\n",
       "      <td>Decision Tree</td>\n",
       "      <td>54.86</td>\n",
       "    </tr>\n",
       "    <tr>\n",
       "      <th>3</th>\n",
       "      <td>Random Forest</td>\n",
       "      <td>53.70</td>\n",
       "    </tr>\n",
       "    <tr>\n",
       "      <th>0</th>\n",
       "      <td>Logistic Regression</td>\n",
       "      <td>52.14</td>\n",
       "    </tr>\n",
       "    <tr>\n",
       "      <th>4</th>\n",
       "      <td>Support Vector Machines</td>\n",
       "      <td>50.58</td>\n",
       "    </tr>\n",
       "    <tr>\n",
       "      <th>5</th>\n",
       "      <td>K - Nearest Neighbors</td>\n",
       "      <td>45.14</td>\n",
       "    </tr>\n",
       "    <tr>\n",
       "      <th>1</th>\n",
       "      <td>Naive Bayes</td>\n",
       "      <td>42.02</td>\n",
       "    </tr>\n",
       "  </tbody>\n",
       "</table>\n",
       "</div>"
      ],
      "text/plain": [
       "                     Model  Score\n",
       "6                  XGBoost  56.81\n",
       "2            Decision Tree  54.86\n",
       "3            Random Forest  53.70\n",
       "0      Logistic Regression  52.14\n",
       "4  Support Vector Machines  50.58\n",
       "5    K - Nearest Neighbors  45.14\n",
       "1              Naive Bayes  42.02"
      ]
     },
     "execution_count": 81,
     "metadata": {},
     "output_type": "execute_result"
    }
   ],
   "source": [
    "models = pd.DataFrame({\n",
    "    'Model': ['Logistic Regression', 'Naive Bayes', 'Decision Tree', 'Random Forest', 'Support Vector Machines', \n",
    "              'K - Nearest Neighbors', 'XGBoost'],\n",
    "    'Score': [acc_logreg, acc_nb, acc_dt, acc_rf, acc_svm, acc_knn, acc_xgb]})\n",
    "models.sort_values(by='Score', ascending=False)"
   ]
  },
  {
   "cell_type": "code",
   "execution_count": 82,
   "metadata": {},
   "outputs": [],
   "source": [
    "# Predicting on the test dataset\n",
    "my_pred = gbm.predict(test_data)"
   ]
  },
  {
   "cell_type": "code",
   "execution_count": 83,
   "metadata": {},
   "outputs": [],
   "source": [
    "my_submission['target'] = my_pred"
   ]
  },
  {
   "cell_type": "code",
   "execution_count": 84,
   "metadata": {},
   "outputs": [
    {
     "data": {
      "text/plain": [
       "(964, 2)"
      ]
     },
     "execution_count": 84,
     "metadata": {},
     "output_type": "execute_result"
    }
   ],
   "source": [
    "my_submission.shape"
   ]
  },
  {
   "cell_type": "code",
   "execution_count": 85,
   "metadata": {},
   "outputs": [],
   "source": [
    "my_submission['target'] = my_submission['target'].replace(0, 'low')\n",
    "my_submission['target'] = my_submission['target'].replace(1, 'medium')\n",
    "my_submission['target'] = my_submission['target'].replace(2, 'high')"
   ]
  },
  {
   "cell_type": "code",
   "execution_count": 86,
   "metadata": {},
   "outputs": [
    {
     "name": "stdout",
     "output_type": "stream",
     "text": [
      "Saved file to disk.\n"
     ]
    }
   ],
   "source": [
    "# Saving predictions to file\n",
    "# my_submission.to_csv('submission.csv', index=False)\n",
    "print('Saved file to disk.')"
   ]
  }
 ],
 "metadata": {
  "kernelspec": {
   "display_name": "Python 3",
   "language": "python",
   "name": "python3"
  },
  "language_info": {
   "codemirror_mode": {
    "name": "ipython",
    "version": 3
   },
   "file_extension": ".py",
   "mimetype": "text/x-python",
   "name": "python",
   "nbconvert_exporter": "python",
   "pygments_lexer": "ipython3",
   "version": "3.7.1"
  },
  "varInspector": {
   "cols": {
    "lenName": 16,
    "lenType": 16,
    "lenVar": 40
   },
   "kernels_config": {
    "python": {
     "delete_cmd_postfix": "",
     "delete_cmd_prefix": "del ",
     "library": "var_list.py",
     "varRefreshCmd": "print(var_dic_list())"
    },
    "r": {
     "delete_cmd_postfix": ") ",
     "delete_cmd_prefix": "rm(",
     "library": "var_list.r",
     "varRefreshCmd": "cat(var_dic_list()) "
    }
   },
   "position": {
    "height": "686px",
    "left": "1281px",
    "right": "20px",
    "top": "69px",
    "width": "596px"
   },
   "types_to_exclude": [
    "module",
    "function",
    "builtin_function_or_method",
    "instance",
    "_Feature"
   ],
   "window_display": false
  }
 },
 "nbformat": 4,
 "nbformat_minor": 2
}
